{
 "cells": [
  {
   "cell_type": "markdown",
   "metadata": {},
   "source": [
    "# Machine Learning Evaluation for Insurance: Prediction and Data Protection"
   ]
  },
  {
   "cell_type": "markdown",
   "metadata": {},
   "source": [
    "## Table of content\n",
    "\n",
    "# Table of Contents\n",
    "\n",
    "1. [Introduction](#introduction)\n",
    "2. [Objectives](#objectives)\n",
    "3. [Description](#description)\n",
    "4. [Data Preprocessing and Exploration](#data-preprocessing-and-exploration)\n",
    "    1. [Initialization](#initialization)\n",
    "    2. [Load data](#load-data)\n",
    "    3. [Exploratory Data Analysis](#exploratory-data-analysis)\n",
    "5. [Task 1. Similar customers](#task-1-similar-customers)\n",
    "6. [Task 2. Is it likely that the client will receive an insurance benefit?](#task-2-is-it-likely-that-the-client-will-receive-an-insurance-benefit)\n",
    "7. [Task 3: Regression (using Linear Regression)](#task-3-regression-using-linear-regression)\n",
    "8. [Task 4. Data Obfuscation](#task-4-data-obfuscation)\n",
    "9. [Testing that data obfuscation can work with linear regression](#testing-that-data-obfuscation-can-work-with-linear-regression)\n",
    "10. [Linear Regression Test with Data Obfuscation](#linear-regression-test-with-data-obfuscation)\n",
    "11. [Conclusions](#conclusions)"
   ]
  },
  {
   "cell_type": "markdown",
   "metadata": {},
   "source": [
    "## Introduction\n",
    "\n",
    "The purpose of this research is to investigate how machine learning may be used to tackle various problems in the insurance sector. Finding comparable profiles, forecasting the possibility and magnitude of insurance benefits, and ensuring data security through masking techniques are the objectives of customer data analysis. Model creation will check the efficacy of data masking without sacrificing model performance and evaluate the additional value of machine learning techniques in comparison to dummy models."
   ]
  },
  {
   "cell_type": "markdown",
   "metadata": {},
   "source": [
    "## Objectives\n",
    "\n",
    "- __Identify similar customers__: Create an algorithm that will combine comparable client profiles to improve the business's marketing tactics.\n",
    "\n",
    "- __Predict insurance benefits__: Develop and assess regression and classification models to estimate the amount of benefits and forecast the likelihood of obtaining them. Examine their results in comparison to dummy models.\n",
    "\n",
    "- __Ensure data protection__: Use a data masking strategy to preserve client information while preserving machine learning model performance."
   ]
  },
  {
   "cell_type": "markdown",
   "metadata": {},
   "source": [
    "## Description"
   ]
  },
  {
   "cell_type": "markdown",
   "metadata": {},
   "source": [
    "The insurance company Sure Tomorrow wants to solve several tasks using machine learning and has asked you to evaluate this possibility.\n",
    "\n",
    "- Task 1: Find customers similar to a specific customer. This will help the company's agents with marketing strategies.\n",
    "- Task 2: Predict the probability of a new customer receiving an insurance benefit. Can a predictive model perform better than a dummy model?\n",
    "- Task 3: Predict the number of insurance benefits a new customer may receive using a linear regression model.\n",
    "- Task 4: Protect customers' personal data without affecting the model from the previous task. It is necessary to develop a data transformation algorithm that makes it difficult to recover personal information if the data falls into the wrong hands. This is known as data masking or obfuscation. However, data must be protected in such a way that the quality of machine learning models remains unaffected. It is not necessary to choose the best model, but rather to demonstrate that the algorithm works correctly."
   ]
  },
  {
   "cell_type": "markdown",
   "metadata": {},
   "source": [
    "## Data Preprocessing and Exploration"
   ]
  },
  {
   "cell_type": "markdown",
   "metadata": {},
   "source": [
    "### Initialization"
   ]
  },
  {
   "cell_type": "code",
   "execution_count": 15,
   "metadata": {},
   "outputs": [
    {
     "name": "stdout",
     "output_type": "stream",
     "text": [
      "Requirement already satisfied: scikit-learn in c:\\users\\felip\\anaconda3\\envs\\entorno\\lib\\site-packages (1.6.0)\n",
      "Collecting scikit-learn\n",
      "  Downloading scikit_learn-1.6.1-cp312-cp312-win_amd64.whl.metadata (15 kB)\n",
      "Requirement already satisfied: numpy>=1.19.5 in c:\\users\\felip\\anaconda3\\envs\\entorno\\lib\\site-packages (from scikit-learn) (2.0.0)\n",
      "Requirement already satisfied: scipy>=1.6.0 in c:\\users\\felip\\anaconda3\\envs\\entorno\\lib\\site-packages (from scikit-learn) (1.14.1)\n",
      "Requirement already satisfied: joblib>=1.2.0 in c:\\users\\felip\\anaconda3\\envs\\entorno\\lib\\site-packages (from scikit-learn) (1.4.2)\n",
      "Requirement already satisfied: threadpoolctl>=3.1.0 in c:\\users\\felip\\anaconda3\\envs\\entorno\\lib\\site-packages (from scikit-learn) (3.5.0)\n",
      "Downloading scikit_learn-1.6.1-cp312-cp312-win_amd64.whl (11.1 MB)\n",
      "   ---------------------------------------- 0.0/11.1 MB ? eta -:--:--\n",
      "   ---------------------------------------- 0.0/11.1 MB ? eta -:--:--\n",
      "   ---------------------------------------- 0.0/11.1 MB ? eta -:--:--\n",
      "   ---------------------------------------- 0.1/11.1 MB 544.7 kB/s eta 0:00:21\n",
      "   - -------------------------------------- 0.3/11.1 MB 2.1 MB/s eta 0:00:06\n",
      "   --- ------------------------------------ 0.9/11.1 MB 4.6 MB/s eta 0:00:03\n",
      "   ------ --------------------------------- 1.8/11.1 MB 7.5 MB/s eta 0:00:02\n",
      "   --------- ------------------------------ 2.5/11.1 MB 8.5 MB/s eta 0:00:02\n",
      "   ------------ --------------------------- 3.5/11.1 MB 10.5 MB/s eta 0:00:01\n",
      "   --------------- ------------------------ 4.3/11.1 MB 10.9 MB/s eta 0:00:01\n",
      "   ------------------ --------------------- 5.1/11.1 MB 12.1 MB/s eta 0:00:01\n",
      "   -------------------- ------------------- 5.8/11.1 MB 12.4 MB/s eta 0:00:01\n",
      "   ------------------------ --------------- 6.8/11.1 MB 13.2 MB/s eta 0:00:01\n",
      "   --------------------------- ------------ 7.6/11.1 MB 13.5 MB/s eta 0:00:01\n",
      "   ------------------------------ --------- 8.5/11.1 MB 13.9 MB/s eta 0:00:01\n",
      "   --------------------------------- ------ 9.4/11.1 MB 14.3 MB/s eta 0:00:01\n",
      "   ------------------------------------ --- 10.3/11.1 MB 16.0 MB/s eta 0:00:01\n",
      "   ---------------------------------------  11.1/11.1 MB 18.2 MB/s eta 0:00:01\n",
      "   ---------------------------------------  11.1/11.1 MB 18.2 MB/s eta 0:00:01\n",
      "   ---------------------------------------- 11.1/11.1 MB 16.8 MB/s eta 0:00:00\n",
      "Installing collected packages: scikit-learn\n",
      "  Attempting uninstall: scikit-learn\n",
      "    Found existing installation: scikit-learn 1.6.0\n",
      "    Uninstalling scikit-learn-1.6.0:\n",
      "      Successfully uninstalled scikit-learn-1.6.0\n",
      "Successfully installed scikit-learn-1.6.1\n",
      "Note: you may need to restart the kernel to use updated packages.\n"
     ]
    },
    {
     "name": "stderr",
     "output_type": "stream",
     "text": [
      "  WARNING: Failed to remove contents in a temporary directory 'C:\\Users\\Felip\\anaconda3\\envs\\entorno\\Lib\\site-packages\\~klearn'.\n",
      "  You can safely remove it manually.\n"
     ]
    }
   ],
   "source": [
    "pip install scikit-learn --upgrade"
   ]
  },
  {
   "cell_type": "code",
   "execution_count": 28,
   "metadata": {},
   "outputs": [],
   "source": [
    "# Importing libraries\n",
    "import numpy as np\n",
    "import pandas as pd\n",
    "import matplotlib.pyplot as plt\n",
    "import seaborn as sns\n",
    "\n",
    "# Importing from scikit-learn\n",
    "from sklearn.model_selection import train_test_split\n",
    "from sklearn.neighbors import NearestNeighbors\n",
    "from sklearn.preprocessing import MaxAbsScaler\n",
    "from sklearn.linear_model import LinearRegression\n",
    "from sklearn.metrics import mean_squared_error, r2_score, f1_score, confusion_matrix, ConfusionMatrixDisplay\n",
    "\n",
    "# Importing from IPython (for displaying results interactively)\n",
    "from IPython.display import display"
   ]
  },
  {
   "cell_type": "markdown",
   "metadata": {},
   "source": [
    "## Load data"
   ]
  },
  {
   "cell_type": "code",
   "execution_count": 17,
   "metadata": {},
   "outputs": [
    {
     "data": {
      "text/html": [
       "<div>\n",
       "<style scoped>\n",
       "    .dataframe tbody tr th:only-of-type {\n",
       "        vertical-align: middle;\n",
       "    }\n",
       "\n",
       "    .dataframe tbody tr th {\n",
       "        vertical-align: top;\n",
       "    }\n",
       "\n",
       "    .dataframe thead th {\n",
       "        text-align: right;\n",
       "    }\n",
       "</style>\n",
       "<table border=\"1\" class=\"dataframe\">\n",
       "  <thead>\n",
       "    <tr style=\"text-align: right;\">\n",
       "      <th></th>\n",
       "      <th>Gender</th>\n",
       "      <th>Age</th>\n",
       "      <th>Salary</th>\n",
       "      <th>Family members</th>\n",
       "      <th>Insurance benefits</th>\n",
       "    </tr>\n",
       "  </thead>\n",
       "  <tbody>\n",
       "    <tr>\n",
       "      <th>0</th>\n",
       "      <td>1</td>\n",
       "      <td>41.0</td>\n",
       "      <td>49600.0</td>\n",
       "      <td>1</td>\n",
       "      <td>0</td>\n",
       "    </tr>\n",
       "    <tr>\n",
       "      <th>1</th>\n",
       "      <td>0</td>\n",
       "      <td>46.0</td>\n",
       "      <td>38000.0</td>\n",
       "      <td>1</td>\n",
       "      <td>1</td>\n",
       "    </tr>\n",
       "    <tr>\n",
       "      <th>2</th>\n",
       "      <td>0</td>\n",
       "      <td>29.0</td>\n",
       "      <td>21000.0</td>\n",
       "      <td>0</td>\n",
       "      <td>0</td>\n",
       "    </tr>\n",
       "    <tr>\n",
       "      <th>3</th>\n",
       "      <td>0</td>\n",
       "      <td>21.0</td>\n",
       "      <td>41700.0</td>\n",
       "      <td>2</td>\n",
       "      <td>0</td>\n",
       "    </tr>\n",
       "    <tr>\n",
       "      <th>4</th>\n",
       "      <td>1</td>\n",
       "      <td>28.0</td>\n",
       "      <td>26100.0</td>\n",
       "      <td>0</td>\n",
       "      <td>0</td>\n",
       "    </tr>\n",
       "  </tbody>\n",
       "</table>\n",
       "</div>"
      ],
      "text/plain": [
       "   Gender   Age   Salary  Family members  Insurance benefits\n",
       "0       1  41.0  49600.0               1                   0\n",
       "1       0  46.0  38000.0               1                   1\n",
       "2       0  29.0  21000.0               0                   0\n",
       "3       0  21.0  41700.0               2                   0\n",
       "4       1  28.0  26100.0               0                   0"
      ]
     },
     "execution_count": 17,
     "metadata": {},
     "output_type": "execute_result"
    }
   ],
   "source": [
    "# Load the data and perform a basic review to ensure there are no obvious issues\n",
    "df = pd.read_csv('insurance_us.csv')\n",
    "df.head()"
   ]
  },
  {
   "cell_type": "code",
   "execution_count": 18,
   "metadata": {},
   "outputs": [
    {
     "data": {
      "text/html": [
       "<div>\n",
       "<style scoped>\n",
       "    .dataframe tbody tr th:only-of-type {\n",
       "        vertical-align: middle;\n",
       "    }\n",
       "\n",
       "    .dataframe tbody tr th {\n",
       "        vertical-align: top;\n",
       "    }\n",
       "\n",
       "    .dataframe thead th {\n",
       "        text-align: right;\n",
       "    }\n",
       "</style>\n",
       "<table border=\"1\" class=\"dataframe\">\n",
       "  <thead>\n",
       "    <tr style=\"text-align: right;\">\n",
       "      <th></th>\n",
       "      <th>gender</th>\n",
       "      <th>age</th>\n",
       "      <th>income</th>\n",
       "      <th>family_members</th>\n",
       "      <th>insurance_benefits</th>\n",
       "    </tr>\n",
       "  </thead>\n",
       "  <tbody>\n",
       "    <tr>\n",
       "      <th>824</th>\n",
       "      <td>0</td>\n",
       "      <td>22.0</td>\n",
       "      <td>29100.0</td>\n",
       "      <td>2</td>\n",
       "      <td>0</td>\n",
       "    </tr>\n",
       "    <tr>\n",
       "      <th>2439</th>\n",
       "      <td>1</td>\n",
       "      <td>44.0</td>\n",
       "      <td>32200.0</td>\n",
       "      <td>1</td>\n",
       "      <td>1</td>\n",
       "    </tr>\n",
       "    <tr>\n",
       "      <th>957</th>\n",
       "      <td>0</td>\n",
       "      <td>27.0</td>\n",
       "      <td>42300.0</td>\n",
       "      <td>2</td>\n",
       "      <td>0</td>\n",
       "    </tr>\n",
       "    <tr>\n",
       "      <th>3271</th>\n",
       "      <td>1</td>\n",
       "      <td>40.0</td>\n",
       "      <td>58200.0</td>\n",
       "      <td>0</td>\n",
       "      <td>0</td>\n",
       "    </tr>\n",
       "    <tr>\n",
       "      <th>793</th>\n",
       "      <td>0</td>\n",
       "      <td>31.0</td>\n",
       "      <td>29600.0</td>\n",
       "      <td>1</td>\n",
       "      <td>0</td>\n",
       "    </tr>\n",
       "    <tr>\n",
       "      <th>1166</th>\n",
       "      <td>0</td>\n",
       "      <td>35.0</td>\n",
       "      <td>31600.0</td>\n",
       "      <td>0</td>\n",
       "      <td>0</td>\n",
       "    </tr>\n",
       "    <tr>\n",
       "      <th>3214</th>\n",
       "      <td>0</td>\n",
       "      <td>27.0</td>\n",
       "      <td>42900.0</td>\n",
       "      <td>3</td>\n",
       "      <td>0</td>\n",
       "    </tr>\n",
       "    <tr>\n",
       "      <th>956</th>\n",
       "      <td>1</td>\n",
       "      <td>32.0</td>\n",
       "      <td>23400.0</td>\n",
       "      <td>0</td>\n",
       "      <td>0</td>\n",
       "    </tr>\n",
       "    <tr>\n",
       "      <th>2212</th>\n",
       "      <td>1</td>\n",
       "      <td>31.0</td>\n",
       "      <td>42000.0</td>\n",
       "      <td>1</td>\n",
       "      <td>0</td>\n",
       "    </tr>\n",
       "    <tr>\n",
       "      <th>4288</th>\n",
       "      <td>0</td>\n",
       "      <td>45.0</td>\n",
       "      <td>53600.0</td>\n",
       "      <td>1</td>\n",
       "      <td>1</td>\n",
       "    </tr>\n",
       "  </tbody>\n",
       "</table>\n",
       "</div>"
      ],
      "text/plain": [
       "      gender   age   income  family_members  insurance_benefits\n",
       "824        0  22.0  29100.0               2                   0\n",
       "2439       1  44.0  32200.0               1                   1\n",
       "957        0  27.0  42300.0               2                   0\n",
       "3271       1  40.0  58200.0               0                   0\n",
       "793        0  31.0  29600.0               1                   0\n",
       "1166       0  35.0  31600.0               0                   0\n",
       "3214       0  27.0  42900.0               3                   0\n",
       "956        1  32.0  23400.0               0                   0\n",
       "2212       1  31.0  42000.0               1                   0\n",
       "4288       0  45.0  53600.0               1                   1"
      ]
     },
     "execution_count": 18,
     "metadata": {},
     "output_type": "execute_result"
    }
   ],
   "source": [
    "# We rename the columns to make the code more consistent with its style.\n",
    "df = df.rename(columns={'Gender': 'gender', 'Age': 'age', 'Salary': 'income', 'Family members': 'family_members', 'Insurance benefits': 'insurance_benefits'})\n",
    "df.sample(10)"
   ]
  },
  {
   "cell_type": "code",
   "execution_count": 19,
   "metadata": {},
   "outputs": [
    {
     "name": "stdout",
     "output_type": "stream",
     "text": [
      "<class 'pandas.core.frame.DataFrame'>\n",
      "RangeIndex: 5000 entries, 0 to 4999\n",
      "Data columns (total 5 columns):\n",
      " #   Column              Non-Null Count  Dtype  \n",
      "---  ------              --------------  -----  \n",
      " 0   gender              5000 non-null   int64  \n",
      " 1   age                 5000 non-null   float64\n",
      " 2   income              5000 non-null   float64\n",
      " 3   family_members      5000 non-null   int64  \n",
      " 4   insurance_benefits  5000 non-null   int64  \n",
      "dtypes: float64(2), int64(3)\n",
      "memory usage: 195.4 KB\n"
     ]
    }
   ],
   "source": [
    "df.info()"
   ]
  },
  {
   "cell_type": "code",
   "execution_count": 20,
   "metadata": {},
   "outputs": [],
   "source": [
    "# Check that the conversion was successful\n",
    "df['age'] = df['age'].astype(int)"
   ]
  },
  {
   "cell_type": "code",
   "execution_count": 21,
   "metadata": {},
   "outputs": [
    {
     "data": {
      "text/html": [
       "<div>\n",
       "<style scoped>\n",
       "    .dataframe tbody tr th:only-of-type {\n",
       "        vertical-align: middle;\n",
       "    }\n",
       "\n",
       "    .dataframe tbody tr th {\n",
       "        vertical-align: top;\n",
       "    }\n",
       "\n",
       "    .dataframe thead th {\n",
       "        text-align: right;\n",
       "    }\n",
       "</style>\n",
       "<table border=\"1\" class=\"dataframe\">\n",
       "  <thead>\n",
       "    <tr style=\"text-align: right;\">\n",
       "      <th></th>\n",
       "      <th>gender</th>\n",
       "      <th>age</th>\n",
       "      <th>income</th>\n",
       "      <th>family_members</th>\n",
       "      <th>insurance_benefits</th>\n",
       "    </tr>\n",
       "  </thead>\n",
       "  <tbody>\n",
       "    <tr>\n",
       "      <th>count</th>\n",
       "      <td>5000.000000</td>\n",
       "      <td>5000.000000</td>\n",
       "      <td>5000.000000</td>\n",
       "      <td>5000.000000</td>\n",
       "      <td>5000.000000</td>\n",
       "    </tr>\n",
       "    <tr>\n",
       "      <th>mean</th>\n",
       "      <td>0.499000</td>\n",
       "      <td>30.952800</td>\n",
       "      <td>39916.360000</td>\n",
       "      <td>1.194200</td>\n",
       "      <td>0.148000</td>\n",
       "    </tr>\n",
       "    <tr>\n",
       "      <th>std</th>\n",
       "      <td>0.500049</td>\n",
       "      <td>8.440807</td>\n",
       "      <td>9900.083569</td>\n",
       "      <td>1.091387</td>\n",
       "      <td>0.463183</td>\n",
       "    </tr>\n",
       "    <tr>\n",
       "      <th>min</th>\n",
       "      <td>0.000000</td>\n",
       "      <td>18.000000</td>\n",
       "      <td>5300.000000</td>\n",
       "      <td>0.000000</td>\n",
       "      <td>0.000000</td>\n",
       "    </tr>\n",
       "    <tr>\n",
       "      <th>25%</th>\n",
       "      <td>0.000000</td>\n",
       "      <td>24.000000</td>\n",
       "      <td>33300.000000</td>\n",
       "      <td>0.000000</td>\n",
       "      <td>0.000000</td>\n",
       "    </tr>\n",
       "    <tr>\n",
       "      <th>50%</th>\n",
       "      <td>0.000000</td>\n",
       "      <td>30.000000</td>\n",
       "      <td>40200.000000</td>\n",
       "      <td>1.000000</td>\n",
       "      <td>0.000000</td>\n",
       "    </tr>\n",
       "    <tr>\n",
       "      <th>75%</th>\n",
       "      <td>1.000000</td>\n",
       "      <td>37.000000</td>\n",
       "      <td>46600.000000</td>\n",
       "      <td>2.000000</td>\n",
       "      <td>0.000000</td>\n",
       "    </tr>\n",
       "    <tr>\n",
       "      <th>max</th>\n",
       "      <td>1.000000</td>\n",
       "      <td>65.000000</td>\n",
       "      <td>79000.000000</td>\n",
       "      <td>6.000000</td>\n",
       "      <td>5.000000</td>\n",
       "    </tr>\n",
       "  </tbody>\n",
       "</table>\n",
       "</div>"
      ],
      "text/plain": [
       "            gender          age        income  family_members  \\\n",
       "count  5000.000000  5000.000000   5000.000000     5000.000000   \n",
       "mean      0.499000    30.952800  39916.360000        1.194200   \n",
       "std       0.500049     8.440807   9900.083569        1.091387   \n",
       "min       0.000000    18.000000   5300.000000        0.000000   \n",
       "25%       0.000000    24.000000  33300.000000        0.000000   \n",
       "50%       0.000000    30.000000  40200.000000        1.000000   \n",
       "75%       1.000000    37.000000  46600.000000        2.000000   \n",
       "max       1.000000    65.000000  79000.000000        6.000000   \n",
       "\n",
       "       insurance_benefits  \n",
       "count         5000.000000  \n",
       "mean             0.148000  \n",
       "std              0.463183  \n",
       "min              0.000000  \n",
       "25%              0.000000  \n",
       "50%              0.000000  \n",
       "75%              0.000000  \n",
       "max              5.000000  "
      ]
     },
     "execution_count": 21,
     "metadata": {},
     "output_type": "execute_result"
    }
   ],
   "source": [
    "df.describe()"
   ]
  },
  {
   "cell_type": "code",
   "execution_count": 22,
   "metadata": {},
   "outputs": [
    {
     "name": "stdout",
     "output_type": "stream",
     "text": [
      "Null values in the original DataFrame:\n",
      "gender                0\n",
      "age                   0\n",
      "income                0\n",
      "family_members        0\n",
      "insurance_benefits    0\n",
      "dtype: int64\n",
      "\n",
      "Null values after filling:\n",
      "gender                0\n",
      "age                   0\n",
      "income                0\n",
      "family_members        0\n",
      "insurance_benefits    0\n",
      "dtype: int64\n"
     ]
    }
   ],
   "source": [
    "# Check for null values in the original DataFrame\n",
    "print(\"Null values in the original DataFrame:\")\n",
    "print(df.isnull().sum())\n",
    "\n",
    "# Fill null values (for example, using the mean)\n",
    "df.fillna(df.mean(), inplace=True)  # Fill with the mean of each column\n",
    "\n",
    "# Check if there are still null values\n",
    "print(\"\\nNull values after filling:\")\n",
    "print(df.isnull().sum())"
   ]
  },
  {
   "cell_type": "markdown",
   "metadata": {},
   "source": [
    "## Exploratory Data Analysis"
   ]
  },
  {
   "cell_type": "code",
   "execution_count": 23,
   "metadata": {},
   "outputs": [
    {
     "data": {
      "image/png": "[encoded data removed]",
      "text/plain": [
       "<Figure size 1200x1200 with 30 Axes>"
      ]
     },
     "metadata": {},
     "output_type": "display_data"
    }
   ],
   "source": [
    "# Let's quickly check if there are any particular groups of customers by looking at the pair plot.\n",
    "g = sns.pairplot(df, kind='hist')\n",
    "g.fig.set_size_inches(12, 12)"
   ]
  },
  {
   "cell_type": "markdown",
   "metadata": {},
   "source": [
    "Alright, it's a bit difficult to detect obvious groups (clusters) since it's hard to combine multiple variables simultaneously (to analyze multivariate distributions). This is where PCA and ML can be quite useful."
   ]
  },
  {
   "cell_type": "markdown",
   "metadata": {},
   "source": [
    "## Task 1. Similar customers"
   ]
  },
  {
   "cell_type": "markdown",
   "metadata": {},
   "source": [
    "**In the ML context, it is necessary to develop a procedure that returns the k nearest neighbors (objects) for a given object based on the distance between the objects.**\n",
    "\n",
    "You might want to review the following lessons (chapter -> lesson):  \n",
    "- Distance between vectors -> Euclidean distance  \n",
    "- Distance between vectors -> Manhattan distance\n",
    "\n",
    "**To solve the task, we can try different distance metrics.**\n"
   ]
  },
  {
   "cell_type": "markdown",
   "metadata": {},
   "source": [
    "** We'll Write a function that returns the k nearest neighbors for the $n^{th}$ object based on a specified distance metric. When performing this task, the number of insurance benefits received should not be taken into account.**\n",
    "\n",
    "You can use an existing implementation of the kNN algorithm from scikit-learn (check [this link](https://scikit-learn.org/stable/modules/generated/sklearn.neighbors.NearestNeighbors.html#sklearn.neighbors.NearestNeighbors)) or your own implementation.\n",
    "\n",
    "Test it for four combinations of two cases:\n",
    "- **Scaling**\n",
    "  - Data is not scaled\n",
    "  - Data is scaled with the [MaxAbsScaler](https://scikit-learn.org/stable/modules/generated/sklearn.preprocessing.MaxAbsScaler.html)\n",
    "- **Distance metrics**\n",
    "  - Euclidean\n",
    "  - Manhattan\n",
    "\n"
   ]
  },
  {
   "cell_type": "code",
   "execution_count": 24,
   "metadata": {},
   "outputs": [],
   "source": [
    "feature_names = ['gender', 'age', 'income', 'family_members']"
   ]
  },
  {
   "cell_type": "code",
   "execution_count": 25,
   "metadata": {},
   "outputs": [],
   "source": [
    "def get_knn(df, n, k, metric):\n",
    "    \"\"\"\n",
    "    Returns the k nearest neighbors\n",
    "\n",
    "    :param df: pandas DataFrame used to find similar objects within the same place\n",
    "    :param n: number of objects for which the nearest neighbors are to be found\n",
    "    :param k: number of nearest neighbors to return\n",
    "    :param metric: name of the distance metric\n",
    "    \"\"\"\n",
    "\n",
    "    nbrs = NearestNeighbors(n_neighbors=k, metric=metric)\n",
    "    nbrs.fit(df[feature_names])\n",
    "    nbrs_distances, nbrs_indices = nbrs.kneighbors([df.iloc[n][feature_names]], return_distance=True)\n",
    "    \n",
    "    df_res = pd.concat([\n",
    "        df.iloc[nbrs_indices[0]], \n",
    "        pd.DataFrame(nbrs_distances.T, index=nbrs_indices[0], columns=['distance'])\n",
    "        ], axis=1)\n",
    "    \n",
    "    return df_res"
   ]
  },
  {
   "cell_type": "code",
   "execution_count": 30,
   "metadata": {},
   "outputs": [
    {
     "name": "stderr",
     "output_type": "stream",
     "text": [
      "C:\\Users\\Felip\\AppData\\Local\\Temp\\ipykernel_2788\\1832527886.py:8: FutureWarning: Setting an item of incompatible dtype is deprecated and will raise in a future error of pandas. Value '[0.63076923 0.70769231 0.44615385 ... 0.30769231 0.33846154 0.43076923]' has dtype incompatible with int64, please explicitly cast to a compatible dtype first.\n",
      "  df_scaled.loc[:, feature_names] = transformer_mas.transform(df[feature_names].to_numpy())\n",
      "C:\\Users\\Felip\\AppData\\Local\\Temp\\ipykernel_2788\\1832527886.py:8: FutureWarning: Setting an item of incompatible dtype is deprecated and will raise in a future error of pandas. Value '[0.16666667 0.16666667 0.         ... 0.33333333 0.5        0.16666667]' has dtype incompatible with int64, please explicitly cast to a compatible dtype first.\n",
      "  df_scaled.loc[:, feature_names] = transformer_mas.transform(df[feature_names].to_numpy())\n"
     ]
    }
   ],
   "source": [
    "# Scale data\n",
    "# Scale data\n",
    "feature_names = ['gender', 'age', 'income', 'family_members']\n",
    "\n",
    "transformer_mas = MaxAbsScaler().fit(df[feature_names].to_numpy())\n",
    "\n",
    "df_scaled = df.copy()\n",
    "df_scaled.loc[:, feature_names] = transformer_mas.transform(df[feature_names].to_numpy())"
   ]
  },
  {
   "cell_type": "code",
   "execution_count": 31,
   "metadata": {},
   "outputs": [
    {
     "data": {
      "text/html": [
       "<div>\n",
       "<style scoped>\n",
       "    .dataframe tbody tr th:only-of-type {\n",
       "        vertical-align: middle;\n",
       "    }\n",
       "\n",
       "    .dataframe tbody tr th {\n",
       "        vertical-align: top;\n",
       "    }\n",
       "\n",
       "    .dataframe thead th {\n",
       "        text-align: right;\n",
       "    }\n",
       "</style>\n",
       "<table border=\"1\" class=\"dataframe\">\n",
       "  <thead>\n",
       "    <tr style=\"text-align: right;\">\n",
       "      <th></th>\n",
       "      <th>gender</th>\n",
       "      <th>age</th>\n",
       "      <th>income</th>\n",
       "      <th>family_members</th>\n",
       "      <th>insurance_benefits</th>\n",
       "    </tr>\n",
       "  </thead>\n",
       "  <tbody>\n",
       "    <tr>\n",
       "      <th>2770</th>\n",
       "      <td>0</td>\n",
       "      <td>0.584615</td>\n",
       "      <td>0.431646</td>\n",
       "      <td>0.166667</td>\n",
       "      <td>0</td>\n",
       "    </tr>\n",
       "    <tr>\n",
       "      <th>223</th>\n",
       "      <td>1</td>\n",
       "      <td>0.523077</td>\n",
       "      <td>0.474684</td>\n",
       "      <td>0.166667</td>\n",
       "      <td>0</td>\n",
       "    </tr>\n",
       "    <tr>\n",
       "      <th>4432</th>\n",
       "      <td>0</td>\n",
       "      <td>0.769231</td>\n",
       "      <td>0.493671</td>\n",
       "      <td>0.166667</td>\n",
       "      <td>2</td>\n",
       "    </tr>\n",
       "    <tr>\n",
       "      <th>3424</th>\n",
       "      <td>0</td>\n",
       "      <td>0.584615</td>\n",
       "      <td>0.627848</td>\n",
       "      <td>0.000000</td>\n",
       "      <td>0</td>\n",
       "    </tr>\n",
       "    <tr>\n",
       "      <th>3715</th>\n",
       "      <td>1</td>\n",
       "      <td>0.446154</td>\n",
       "      <td>0.587342</td>\n",
       "      <td>0.000000</td>\n",
       "      <td>0</td>\n",
       "    </tr>\n",
       "  </tbody>\n",
       "</table>\n",
       "</div>"
      ],
      "text/plain": [
       "      gender       age    income  family_members  insurance_benefits\n",
       "2770       0  0.584615  0.431646        0.166667                   0\n",
       "223        1  0.523077  0.474684        0.166667                   0\n",
       "4432       0  0.769231  0.493671        0.166667                   2\n",
       "3424       0  0.584615  0.627848        0.000000                   0\n",
       "3715       1  0.446154  0.587342        0.000000                   0"
      ]
     },
     "execution_count": 31,
     "metadata": {},
     "output_type": "execute_result"
    }
   ],
   "source": [
    "df_scaled.sample(5)"
   ]
  },
  {
   "cell_type": "code",
   "execution_count": 32,
   "metadata": {},
   "outputs": [],
   "source": [
    "# Define the index of the record for which you want to find neighbors\n",
    "n = 0  # Change this value to the index of the desired record\n",
    "k = 5  # Number of neighbors you want to retrieve\n",
    "metrics = ['euclidean', 'manhattan']  # Metric you want to use\n",
    "# 4. Store results\n",
    "results = {}"
   ]
  },
  {
   "cell_type": "code",
   "execution_count": 33,
   "metadata": {},
   "outputs": [
    {
     "name": "stderr",
     "output_type": "stream",
     "text": [
      "c:\\Users\\Felip\\anaconda3\\envs\\entorno\\Lib\\site-packages\\sklearn\\utils\\validation.py:2739: UserWarning: X does not have valid feature names, but NearestNeighbors was fitted with feature names\n",
      "  warnings.warn(\n",
      "c:\\Users\\Felip\\anaconda3\\envs\\entorno\\Lib\\site-packages\\sklearn\\utils\\validation.py:2739: UserWarning: X does not have valid feature names, but NearestNeighbors was fitted with feature names\n",
      "  warnings.warn(\n",
      "c:\\Users\\Felip\\anaconda3\\envs\\entorno\\Lib\\site-packages\\sklearn\\utils\\validation.py:2739: UserWarning: X does not have valid feature names, but NearestNeighbors was fitted with feature names\n",
      "  warnings.warn(\n",
      "c:\\Users\\Felip\\anaconda3\\envs\\entorno\\Lib\\site-packages\\sklearn\\utils\\validation.py:2739: UserWarning: X does not have valid feature names, but NearestNeighbors was fitted with feature names\n",
      "  warnings.warn(\n"
     ]
    }
   ],
   "source": [
    "for metric in metrics:\n",
    "    # Get nearest neighbors using the original DataFrame (not scaled)\n",
    "    results[f'Original - {metric}'] = get_knn(df, n, k, metric)\n",
    "    \n",
    "    # Get nearest neighbors using the scaled DataFrame\n",
    "    results[f'Scaled - {metric}'] = get_knn(df_scaled, n, k, metric)"
   ]
  },
  {
   "cell_type": "code",
   "execution_count": 34,
   "metadata": {},
   "outputs": [
    {
     "name": "stdout",
     "output_type": "stream",
     "text": [
      "Similar results (Original - euclidean):\n",
      "      gender  age   income  family_members  insurance_benefits  distance\n",
      "0          1   41  49600.0               1                   0  0.000000\n",
      "2022       1   41  49600.0               0                   0  1.000000\n",
      "1225       0   42  49600.0               0                   1  1.732051\n",
      "4031       1   44  49600.0               2                   1  3.162278\n",
      "3424       0   38  49600.0               0                   0  3.316625\n",
      "\n",
      "--------------------------------------------------\n",
      "\n",
      "Similar results (Scaled - euclidean):\n",
      "      gender       age    income  family_members  insurance_benefits  distance\n",
      "0          1  0.630769  0.627848        0.166667                   0  0.000000\n",
      "2689       1  0.630769  0.634177        0.166667                   0  0.006329\n",
      "133        1  0.615385  0.636709        0.166667                   0  0.017754\n",
      "4869       1  0.646154  0.637975        0.166667                   1  0.018418\n",
      "3275       1  0.646154  0.651899        0.166667                   1  0.028550\n",
      "\n",
      "--------------------------------------------------\n",
      "\n",
      "Similar results (Original - manhattan):\n",
      "      gender  age   income  family_members  insurance_benefits  distance\n",
      "0          1   41  49600.0               1                   0       0.0\n",
      "2022       1   41  49600.0               0                   0       1.0\n",
      "1225       0   42  49600.0               0                   1       3.0\n",
      "4031       1   44  49600.0               2                   1       4.0\n",
      "815        1   37  49600.0               2                   0       5.0\n",
      "\n",
      "--------------------------------------------------\n",
      "\n",
      "Similar results (Scaled - manhattan):\n",
      "      gender       age    income  family_members  insurance_benefits  distance\n",
      "0          1  0.630769  0.627848        0.166667                   0  0.000000\n",
      "2689       1  0.630769  0.634177        0.166667                   0  0.006329\n",
      "133        1  0.615385  0.636709        0.166667                   0  0.024245\n",
      "4869       1  0.646154  0.637975        0.166667                   1  0.025511\n",
      "2103       1  0.630769  0.596203        0.166667                   0  0.031646\n",
      "\n",
      "--------------------------------------------------\n",
      "\n"
     ]
    }
   ],
   "source": [
    "# 5. Print all results\n",
    "for key, value in results.items():\n",
    "    print(f\"Similar results ({key}):\")\n",
    "    print(value)\n",
    "    print(\"\\n\" + \"-\"*50 + \"\\n\")  # Visual separator"
   ]
  },
  {
   "cell_type": "markdown",
   "metadata": {},
   "source": [
    "**Does the fact that the data is not scaled affect the kNN algorithm? If so, how does it manifest?**\n",
    "\n",
    "Yes, the kNN (K-Nearest Neighbors) algorithm is significantly affected by the fact that the data is not scaled. This algorithm determines which points are closest to each other using distance measures (such as Euclidean or Manhattan). Features with larger values or greater ranges can dominate the distance measure if the data is not scaled, while features with smaller values will be ignored or have less influence on the prediction."
   ]
  },
  {
   "cell_type": "markdown",
   "metadata": {},
   "source": [
    "**How similar are the results when using the Manhattan distance metric (regardless of scaling)?**\n",
    "\n",
    "Although there are differences in the distance values themselves, the results with the Manhattan distance metric are generally similar to those obtained with the Euclidean distance metric, regardless of scaling. The Manhattan distance between each dimension determines the absolute differences, which may result in a slightly different ranking of the nearest neighbors."
   ]
  },
  {
   "cell_type": "markdown",
   "metadata": {},
   "source": [
    "## Task 2. Is it likely that the client will receive an insurance benefit?"
   ]
  },
  {
   "cell_type": "markdown",
   "metadata": {},
   "source": [
    "With the `insurance_benefits` value greater than zero as the target, evaluate if the kNN classification approach can perform better than the dummy model.\n",
    "\n",
    "#### Instructions:\n",
    "- Build a classifier based on KNN and measure its quality using the F1 metric for k=1...10 for both the original and scaled data. It would be interesting to observe how k influences the evaluation metric and if scaling the data causes any differences. You can use an existing implementation of the kNN classification algorithm from scikit-learn (see [link](https://scikit-learn.org/stable/modules/generated/sklearn.neighbors.KNeighborsClassifier.html)) or your own implementation.\n",
    "- Build a dummy model, which in this case is simply a random model. It should return \"1\" with a certain probability. Test the model with four probability values: 0, the probability of receiving any insurance benefit, 0.5, and 1.\n",
    "The probability of receiving any insurance benefit can be defined as:\n",
    "\n",
    "$$\n",
    "P\\{\\text{insurance benefit received}\\}=\\frac{\\text{number of clients who received any insurance benefit}}{\\text{total number of clients}}.\n",
    "$$\n",
    "\n",
    "Split all the data into training/testing stages respecting the 70:30 ratio."
   ]
  },
  {
   "cell_type": "code",
   "execution_count": 41,
   "metadata": {},
   "outputs": [],
   "source": [
    "# Calculate the target\n",
    "df['insurance_benefits_received'] = (df['insurance_benefits'] > 0).astype(int)\n",
    "\n",
    "# Split the data into training (70%) and testing (30%) sets\n",
    "X = df[feature_names]  # Input features\n",
    "y = df['insurance_benefits_received']  # Target variable\n",
    "\n",
    "X_train, X_test, y_train, y_test = train_test_split(X, y, test_size=0.3, random_state=42)"
   ]
  },
  {
   "cell_type": "code",
   "execution_count": 42,
   "metadata": {},
   "outputs": [
    {
     "name": "stdout",
     "output_type": "stream",
     "text": [
      "Class distribution in the training set:\n",
      "insurance_benefits_received\n",
      "0    0.884857\n",
      "1    0.115143\n",
      "Name: proportion, dtype: float64\n"
     ]
    }
   ],
   "source": [
    "# Check class imbalance with value_counts()\n",
    "class_distribution = y_train.value_counts(normalize=True)\n",
    "\n",
    "print(\"Class distribution in the training set:\")\n",
    "print(class_distribution)"
   ]
  },
  {
   "cell_type": "code",
   "execution_count": 43,
   "metadata": {},
   "outputs": [],
   "source": [
    "def eval_classifier(y_true, y_pred):\n",
    "    \n",
    "    f1_score = sklearn.metrics.f1_score(y_true, y_pred)\n",
    "    print(f'F1: {f1_score:.2f}')\n",
    "    \n",
    "    # If you encounter any issue with the following line, restart the kernel and run the notebook again\n",
    "    cm = sklearn.metrics.confusion_matrix(y_true, y_pred, normalize='all')\n",
    "    print('Confusion Matrix:')\n",
    "    print(cm)"
   ]
  },
  {
   "cell_type": "code",
   "execution_count": 44,
   "metadata": {},
   "outputs": [],
   "source": [
    "# Generate the output of a random model\n",
    "\n",
    "def rnd_model_predict(P, size, seed=42):\n",
    "    rng = np.random.default_rng(seed=seed)\n",
    "    return rng.binomial(n=1, p=P, size=size)"
   ]
  },
  {
   "cell_type": "code",
   "execution_count": 45,
   "metadata": {},
   "outputs": [
    {
     "name": "stdout",
     "output_type": "stream",
     "text": [
      "Class distribution in the training set:\n",
      "insurance_benefits_received\n",
      "0    0.884857\n",
      "1    0.115143\n",
      "Name: proportion, dtype: float64\n",
      "Probability: 0.00\n",
      "F1: 0.00\n",
      "Confusion matrix:\n"
     ]
    },
    {
     "data": {
      "image/png": "[encoded data removed]",
      "text/plain": [
       "<Figure size 640x480 with 2 Axes>"
      ]
     },
     "metadata": {},
     "output_type": "display_data"
    },
    {
     "name": "stdout",
     "output_type": "stream",
     "text": [
      "\n",
      "Probability: 0.11\n",
      "F1: 0.12\n",
      "Confusion matrix:\n"
     ]
    },
    {
     "data": {
      "image/png": "[encoded data removed]",
      "text/plain": [
       "<Figure size 640x480 with 2 Axes>"
      ]
     },
     "metadata": {},
     "output_type": "display_data"
    },
    {
     "name": "stdout",
     "output_type": "stream",
     "text": [
      "\n",
      "Probability: 0.50\n",
      "F1: 0.20\n",
      "Confusion matrix:\n"
     ]
    },
    {
     "data": {
      "image/png": "[encoded data removed]",
      "text/plain": [
       "<Figure size 640x480 with 2 Axes>"
      ]
     },
     "metadata": {},
     "output_type": "display_data"
    },
    {
     "name": "stdout",
     "output_type": "stream",
     "text": [
      "\n",
      "Probability: 1.00\n",
      "F1: 0.20\n",
      "Confusion matrix:\n"
     ]
    },
    {
     "data": {
      "image/png": "[encoded data removed]",
      "text/plain": [
       "<Figure size 640x480 with 2 Axes>"
      ]
     },
     "metadata": {},
     "output_type": "display_data"
    },
    {
     "name": "stdout",
     "output_type": "stream",
     "text": [
      "\n"
     ]
    }
   ],
   "source": [
    "# Create the target column 'insurance_benefits_received'\n",
    "df['insurance_benefits_received'] = (df['insurance_benefits'] > 0).astype(int)\n",
    "\n",
    "# Select features\n",
    "feature_names = ['gender', 'age', 'income', 'family_members']  # adjust according to the dataframe\n",
    "X = df[feature_names]  # Input variables\n",
    "y = df['insurance_benefits_received']  # Target variable\n",
    "\n",
    "# Split into training and test sets\n",
    "X_train, X_test, y_train, y_test = train_test_split(X, y, test_size=0.3, random_state=42)\n",
    "\n",
    "# Check class imbalance in the training set\n",
    "class_distribution = y_train.value_counts(normalize=True)\n",
    "print(\"Class distribution in the training set:\")\n",
    "print(class_distribution)\n",
    "\n",
    "# Define the random model prediction function\n",
    "def rnd_model_predict(P, size, seed=42):\n",
    "    rng = np.random.default_rng(seed=seed)\n",
    "    return rng.binomial(n=1, p=P, size=size)\n",
    "\n",
    "# Function to evaluate the classifier\n",
    "def eval_classifier(y_true, y_pred):\n",
    "    f1 = f1_score(y_true, y_pred)\n",
    "    print(f'F1: {f1:.2f}')\n",
    "    \n",
    "    cm = confusion_matrix(y_true, y_pred, normalize='all')\n",
    "    print('Confusion matrix:')\n",
    "    disp = ConfusionMatrixDisplay(confusion_matrix=cm)\n",
    "    disp.plot()\n",
    "    plt.show()\n",
    "\n",
    "# Generate predictions with different probabilities\n",
    "for P in [0, df['insurance_benefits_received'].sum() / len(df), 0.5, 1]:\n",
    "    print(f'Probability: {P:.2f}')\n",
    "    y_pred_rnd = rnd_model_predict(P, size=len(df))\n",
    "    \n",
    "    # Evaluate the random model\n",
    "    eval_classifier(df['insurance_benefits_received'], y_pred_rnd)\n",
    "    print()"
   ]
  },
  {
   "cell_type": "code",
   "execution_count": 46,
   "metadata": {},
   "outputs": [
    {
     "name": "stdout",
     "output_type": "stream",
     "text": [
      "F1: 0.20\n",
      "Confusion matrix:\n"
     ]
    },
    {
     "data": {
      "image/png": "[encoded data removed]",
      "text/plain": [
       "<Figure size 640x480 with 2 Axes>"
      ]
     },
     "metadata": {},
     "output_type": "display_data"
    },
    {
     "name": "stdout",
     "output_type": "stream",
     "text": [
      "\n"
     ]
    }
   ],
   "source": [
    "# Generate random predictions\n",
    "y_pred_rnd = rnd_model_predict(P, size=len(df))\n",
    "\n",
    "# Evaluate the random model\n",
    "eval_classifier(df['insurance_benefits_received'], y_pred_rnd)\n",
    "\n",
    "print()"
   ]
  },
  {
   "cell_type": "markdown",
   "metadata": {},
   "source": [
    "## Task 3: Regression (using Linear Regression)"
   ]
  },
  {
   "cell_type": "markdown",
   "metadata": {},
   "source": [
    "Evaluate the RMSE of a Linear Regression Model with `insurance_benefits` as the Target"
   ]
  },
  {
   "cell_type": "code",
   "execution_count": 47,
   "metadata": {},
   "outputs": [],
   "source": [
    "class MyLinearRegression:\n",
    "    \n",
    "    def __init__(self):\n",
    "        # Inicializa los pesos como None\n",
    "        self.weights = None\n",
    "    \n",
    "    def fit(self, X, y):\n",
    "        # Añadir la columna de unos para el término de la intersección\n",
    "        X2 = np.append(np.ones([len(X), 1]), X, axis=1)\n",
    "        # Calcular los pesos utilizando la fórmula analítica (X^T * X)^(-1) * X^T * y\n",
    "        self.weights = np.linalg.inv(X2.T @ X2) @ X2.T @ y\n",
    "\n",
    "    def predict(self, X):\n",
    "        # Añadir la columna de unos para el término de la intersección\n",
    "        X2 = np.append(np.ones([len(X), 1]), X, axis=1)\n",
    "        # Calcular las predicciones utilizando los pesos obtenidos\n",
    "        y_pred = X2 @ self.weights\n",
    "        return y_pred"
   ]
  },
  {
   "cell_type": "code",
   "execution_count": 48,
   "metadata": {},
   "outputs": [],
   "source": [
    "    \n",
    "def eval_regressor(y_true, y_pred):\n",
    "    \n",
    "    # Calculate Mean Squared Error (MSE)\n",
    "    mse = mean_squared_error(y_true, y_pred)\n",
    "    \n",
    "    # Calculate Root Mean Squared Error (RMSE) using numpy.sqrt\n",
    "    rmse = np.sqrt(mse)\n",
    "    \n",
    "    print(f\"RMSE: {rmse:.4f}\")\n"
   ]
  },
  {
   "cell_type": "code",
   "execution_count": 49,
   "metadata": {},
   "outputs": [
    {
     "name": "stdout",
     "output_type": "stream",
     "text": [
      "[-9.43539012e-01  3.57495491e-02  1.64272726e-02 -2.60743659e-07\n",
      " -1.16902127e-02]\n",
      "RMSE: 0.3436\n"
     ]
    }
   ],
   "source": [
    "X = df[['age', 'gender', 'income', 'family_members']].to_numpy()\n",
    "y = df['insurance_benefits'].to_numpy()\n",
    "\n",
    "X_train, X_test, y_train, y_test = train_test_split(X, y, test_size=0.3, random_state=12345)\n",
    "\n",
    "lr = MyLinearRegression()\n",
    "\n",
    "lr.fit(X_train, y_train)\n",
    "print(lr.weights)\n",
    "\n",
    "y_test_pred = lr.predict(X_test)\n",
    "eval_regressor(y_test, y_test_pred)"
   ]
  },
  {
   "cell_type": "markdown",
   "metadata": {},
   "source": [
    "## Task 4. Data Obfuscation"
   ]
  },
  {
   "cell_type": "markdown",
   "metadata": {},
   "source": [
    "The best way to obfuscate the data is by multiplying the numerical features (which can be seen as the matrix $X$) by an invertible matrix $P$.\n",
    "\n",
    "$$\n",
    "X' = X \\times P\n",
    "$$\n",
    "\n",
    "Try to do this and check how the feature values will look after the transformation. By the way, the property of invertibility is important here, so make sure that $P$ is indeed invertible.\n",
    "\n",
    "You can refer to the lesson \"Matrices and Matrix Operations -> Matrix Multiplication\" to refresh the rule of matrix multiplication and its implementation with NumPy."
   ]
  },
  {
   "cell_type": "code",
   "execution_count": 50,
   "metadata": {},
   "outputs": [],
   "source": [
    "personal_info_column_list = ['gender', 'age', 'income', 'family_members']\n",
    "df_pn = df[personal_info_column_list]"
   ]
  },
  {
   "cell_type": "code",
   "execution_count": 51,
   "metadata": {},
   "outputs": [],
   "source": [
    "X = df_pn.to_numpy()"
   ]
  },
  {
   "cell_type": "markdown",
   "metadata": {},
   "source": [
    "Generate a random matrix $P$."
   ]
  },
  {
   "cell_type": "code",
   "execution_count": 52,
   "metadata": {},
   "outputs": [],
   "source": [
    "rng = np.random.default_rng(seed=42)\n",
    "P = rng.random(size=(X.shape[1], X.shape[1]))"
   ]
  },
  {
   "cell_type": "markdown",
   "metadata": {},
   "source": [
    "Check if the matrix $P$ is invertible."
   ]
  },
  {
   "cell_type": "code",
   "execution_count": 53,
   "metadata": {},
   "outputs": [
    {
     "name": "stdout",
     "output_type": "stream",
     "text": [
      "Original matrix X:\n",
      "[[   25 50000     3]\n",
      " [   30 60000     2]\n",
      " [   22 45000     1]\n",
      " [   35 70000     4]]\n",
      "\n",
      "Shape of matrix P: (3, 3)\n",
      "Matrix P:\n",
      "[[0.77395605 0.43887844 0.85859792]\n",
      " [0.69736803 0.09417735 0.97562235]\n",
      " [0.7611397  0.78606431 0.12811363]]\n",
      "\n",
      "Determinant of matrix P: 0.11160054970551443\n",
      "Matrix P is invertible.\n",
      "\n",
      "Obfuscated matrix X':\n",
      "[[34890.03377329  4722.19754829 48802.96687073]\n",
      " [41866.82270442  5665.37935506 58563.35526307]\n",
      " [31399.34948044  4248.42204492 43922.02309152]\n",
      " [48845.89505466  6610.91935475 68324.1279963 ]]\n"
     ]
    }
   ],
   "source": [
    "# Data simulation for the DataFrame df\n",
    "data = {\n",
    "    'gender': ['male', 'female', 'female', 'male'],\n",
    "    'age': [25, 30, 22, 35],\n",
    "    'income': [50000, 60000, 45000, 70000],\n",
    "    'family_members': [3, 2, 1, 4]\n",
    "}\n",
    "df = pd.DataFrame(data)\n",
    "\n",
    "# 1. Select the columns containing personal information\n",
    "personal_info_column_list = ['gender', 'age', 'income', 'family_members']\n",
    "df_pn = df[personal_info_column_list]\n",
    "\n",
    "# 2. Convert the DataFrame to a numpy array, ensuring only the numerical columns are converted\n",
    "X = df_pn[['age', 'income', 'family_members']].to_numpy()  # Exclude the 'gender' column\n",
    "print(\"Original matrix X:\")\n",
    "print(X)\n",
    "\n",
    "# 3. Generate a random matrix P\n",
    "rng = np.random.default_rng(seed=42)\n",
    "P = rng.random(size=(X.shape[1], X.shape[1]))\n",
    "\n",
    "# Check the shape of matrix P\n",
    "print(f\"\\nShape of matrix P: {P.shape}\")\n",
    "print(f\"Matrix P:\")\n",
    "print(P)\n",
    "\n",
    "# 4. Check if the matrix P is invertible by calculating its determinant\n",
    "try:\n",
    "    determinant = np.linalg.det(P)\n",
    "    print(f\"\\nDeterminant of matrix P: {determinant}\")\n",
    "\n",
    "    if determinant == 0:\n",
    "        raise ValueError(\"Matrix P is not invertible. Please generate another matrix.\")\n",
    "    else:\n",
    "        print(\"Matrix P is invertible.\")\n",
    "except Exception as e:\n",
    "    print(f\"An error occurred while calculating the determinant: {e}\")\n",
    "\n",
    "# 5. Multiply X by P to obfuscate the data\n",
    "try:\n",
    "    X_prime = X @ P  # Matrix multiplication\n",
    "    print(\"\\nObfuscated matrix X':\")\n",
    "    print(X_prime)\n",
    "except ValueError as e:\n",
    "    print(f\"An error occurred while multiplying X by P: {e}\")\n",
    "except TypeError as e:\n",
    "    print(f\"A type error occurred while multiplying X by P: {e}\")"
   ]
  },
  {
   "cell_type": "markdown",
   "metadata": {},
   "source": [
    "To recover the original data from the obfuscated matrix  $X'$"
   ]
  },
  {
   "cell_type": "code",
   "execution_count": 54,
   "metadata": {},
   "outputs": [
    {
     "name": "stdout",
     "output_type": "stream",
     "text": [
      "Original Matrix X:\n",
      "[[   25 50000     3]\n",
      " [   30 60000     2]\n",
      " [   22 45000     1]\n",
      " [   35 70000     4]]\n",
      "\n",
      "Recovered Matrix X:\n",
      "[[2.5e+01 5.0e+04 3.0e+00]\n",
      " [3.0e+01 6.0e+04 2.0e+00]\n",
      " [2.2e+01 4.5e+04 1.0e+00]\n",
      " [3.5e+01 7.0e+04 4.0e+00]]\n",
      "The original data has been successfully recovered.\n"
     ]
    }
   ],
   "source": [
    "rng = np.random.default_rng(seed=42)\n",
    "P = rng.random(size=(X.shape[1], X.shape[1]))\n",
    "\n",
    "# Ensure that P is invertible\n",
    "determinant = np.linalg.det(P)\n",
    "if determinant == 0:\n",
    "    raise ValueError(\"The matrix P is not invertible.\")\n",
    "\n",
    "# Calculate the inverse of P\n",
    "P_inv = np.linalg.inv(P)\n",
    "\n",
    "# Multiply X' by P_inv to recover X\n",
    "X_recovered = X_prime @ P_inv\n",
    "\n",
    "# Check if the recovered data is the same as the original\n",
    "print(\"Original Matrix X:\")\n",
    "print(X)\n",
    "print(\"\\nRecovered Matrix X:\")\n",
    "print(X_recovered)\n",
    "\n",
    "# Verify if they are equal\n",
    "if np.allclose(X, X_recovered):\n",
    "    print(\"The original data has been successfully recovered.\")\n",
    "else:\n",
    "    print(\"The original data could not be recovered.\")"
   ]
  },
  {
   "cell_type": "markdown",
   "metadata": {},
   "source": [
    "Show the three cases for some clients:\n",
    "\n",
    "- The original data\n",
    "- The transformed data\n",
    "- The inverted (recovered) data\""
   ]
  },
  {
   "cell_type": "code",
   "execution_count": 55,
   "metadata": {},
   "outputs": [
    {
     "name": "stdout",
     "output_type": "stream",
     "text": [
      "Original matrix X:\n",
      "[[   25 50000     3]\n",
      " [   30 60000     2]\n",
      " [   22 45000     1]\n",
      " [   35 70000     4]]\n",
      "\n",
      "Shape of matrix P: (3, 3)\n",
      "Matrix P:\n",
      "[[0.77395605 0.43887844 0.85859792]\n",
      " [0.69736803 0.09417735 0.97562235]\n",
      " [0.7611397  0.78606431 0.12811363]]\n",
      "\n",
      "Determinant of matrix P: 0.11160054970551443\n",
      "Matrix P is invertible.\n",
      "\n",
      "Obfuscated matrix X':\n",
      "[[34890.03377329  4722.19754829 48802.96687073]\n",
      " [41866.82270442  5665.37935506 58563.35526307]\n",
      " [31399.34948044  4248.42204492 43922.02309152]\n",
      " [48845.89505466  6610.91935475 68324.1279963 ]]\n",
      "\n",
      "Recovered matrix X:\n",
      "[[2.5e+01 5.0e+04 3.0e+00]\n",
      " [3.0e+01 6.0e+04 2.0e+00]\n",
      " [2.2e+01 4.5e+04 1.0e+00]\n",
      " [3.5e+01 7.0e+04 4.0e+00]]\n",
      "The original data has been successfully recovered.\n",
      "\n",
      "Comparison of data for some clients:\n",
      "Client 1:\n",
      "  Original data: [   25 50000     3]\n",
      "  Obfuscated data: [34890.03377329  4722.19754829 48802.96687073]\n",
      "  Recovered data: [2.5e+01 5.0e+04 3.0e+00]\n",
      "\n",
      "Client 2:\n",
      "  Original data: [   30 60000     2]\n",
      "  Obfuscated data: [41866.82270442  5665.37935506 58563.35526307]\n",
      "  Recovered data: [3.e+01 6.e+04 2.e+00]\n",
      "\n",
      "Client 3:\n",
      "  Original data: [   22 45000     1]\n",
      "  Obfuscated data: [31399.34948044  4248.42204492 43922.02309152]\n",
      "  Recovered data: [2.2e+01 4.5e+04 1.0e+00]\n",
      "\n",
      "Client 4:\n",
      "  Original data: [   35 70000     4]\n",
      "  Obfuscated data: [48845.89505466  6610.91935475 68324.1279963 ]\n",
      "  Recovered data: [3.5e+01 7.0e+04 4.0e+00]\n",
      "\n"
     ]
    }
   ],
   "source": [
    "# 1. Select the columns containing personal information\n",
    "personal_info_column_list = ['gender', 'age', 'income', 'family_members']\n",
    "df_pn = df[personal_info_column_list]\n",
    "\n",
    "# 2. Convert the DataFrame to a numpy array, excluding the 'gender' column\n",
    "X = df_pn[['age', 'income', 'family_members']].to_numpy()  \n",
    "print(\"Original matrix X:\")\n",
    "print(X)\n",
    "\n",
    "# 3. Generate a random matrix P\n",
    "rng = np.random.default_rng(seed=42)\n",
    "P = rng.random(size=(X.shape[1], X.shape[1]))\n",
    "\n",
    "# Verify the shape of matrix P\n",
    "print(f\"\\nShape of matrix P: {P.shape}\")\n",
    "print(f\"Matrix P:\")\n",
    "print(P)\n",
    "\n",
    "# 4. Check if matrix P is invertible by calculating its determinant\n",
    "try:\n",
    "    determinant = np.linalg.det(P)\n",
    "    print(f\"\\nDeterminant of matrix P: {determinant}\")\n",
    "\n",
    "    if determinant == 0:\n",
    "        raise ValueError(\"Matrix P is not invertible. Please generate another matrix.\")\n",
    "    else:\n",
    "        print(\"Matrix P is invertible.\")\n",
    "except Exception as e:\n",
    "    print(f\"An error occurred while calculating the determinant: {e}\")\n",
    "\n",
    "# 5. Multiply X by P to obfuscate the data\n",
    "try:\n",
    "    X_prime = X @ P  # Matrix multiplication\n",
    "    print(\"\\nObfuscated matrix X':\")\n",
    "    print(X_prime)\n",
    "except ValueError as e:\n",
    "    print(f\"An error occurred while multiplying X by P: {e}\")\n",
    "except TypeError as e:\n",
    "    print(f\"A type error occurred while multiplying X by P: {e}\")\n",
    "\n",
    "# 6. Ensure P is invertible\n",
    "try:\n",
    "    P_inv = np.linalg.inv(P)  # Calculate the inverse of P\n",
    "    # Multiply X' by P_inv to recover X\n",
    "    X_recovered = X_prime @ P_inv\n",
    "    print(\"\\nRecovered matrix X:\")\n",
    "    print(X_recovered)\n",
    "\n",
    "    # Verify if the recovered data is the same as the original\n",
    "    if np.allclose(X, X_recovered):\n",
    "        print(\"The original data has been successfully recovered.\")\n",
    "    else:\n",
    "        print(\"The original data could not be recovered.\")\n",
    "except Exception as e:\n",
    "    print(f\"An error occurred while inverting matrix P or recovering X: {e}\")\n",
    "\n",
    "# 7. Show the original, transformed, and recovered data for some clients\n",
    "print(\"\\nComparison of data for some clients:\")\n",
    "for i in range(len(X)):\n",
    "    print(f\"Client {i+1}:\")\n",
    "    print(f\"  Original data: {X[i]}\")\n",
    "    print(f\"  Obfuscated data: {X_prime[i]}\")\n",
    "    print(f\"  Recovered data: {X_recovered[i]}\")\n",
    "    print()\n"
   ]
  },
  {
   "cell_type": "markdown",
   "metadata": {},
   "source": [
    "The rounding errors or lack of numerical precision that occur during matrix operations (such as matrix multiplication and inversion) can be the reason why some recovered values are not exactly equal to the original data."
   ]
  },
  {
   "cell_type": "markdown",
   "metadata": {},
   "source": [
    "## Testing that data obfuscation can work with linear regression"
   ]
  },
  {
   "cell_type": "markdown",
   "metadata": {},
   "source": [
    "In this project, the regression task has been solved using linear regression. Your next task is to demonstrate _analytically_ that the obfuscation method will not affect linear regression in terms of predicted values, meaning that the predicted values will remain the same. Can you believe it? Well, you don’t have to believe it, you have to prove it!"
   ]
  },
  {
   "cell_type": "markdown",
   "metadata": {},
   "source": [
    "So, the data is obfuscated, and now we have \\( X \\times P \\) instead of just \\( X \\). As a result, there are different weights \\( w_P \\) as:\n",
    "\n",
    "\\[\n",
    "w = (X^T X)^{-1} X^T y \\quad \\Rightarrow \\quad w_P = \\left[ (X P)^T (X P) \\right]^{-1} (X P)^T y\n",
    "\\]\n",
    "\n",
    "### How would \\( w \\) and \\( w_P \\) relate if we simplify the formula for \\( w_P \\) above?\n",
    "\n",
    "### What would be the predicted values with \\( w_P \\)?\n",
    "\n",
    "### What does this mean for the quality of the linear regression if measured by the RMSE (Root Mean Squared Error)?\n",
    "\n",
    "Review Appendix B on Properties of Matrices at the end of the notebook. You will find very useful formulas there!\n",
    "\n",
    "No need to write code in this section, just an analytical explanation.\n"
   ]
  },
  {
   "cell_type": "markdown",
   "metadata": {},
   "source": [
    "**Answer**"
   ]
  },
  {
   "cell_type": "markdown",
   "metadata": {},
   "source": [
    "The new regression coefficients \\( w_P \\) are related to the original coefficients \\( w \\) as \\( w_P = P^{-1} w \\) when we obfuscate the data with a matrix \\( P \\). This means that, when using obfuscated data for prediction, the values obtained will be the same as those obtained with the original data. Therefore, the quality of the regression (measured by error) remains the same, even though the data has been altered.\n"
   ]
  },
  {
   "cell_type": "markdown",
   "metadata": {},
   "source": [
    "### Analytical Proof of Data Obfuscation\n",
    "\n",
    "The following is an analytical proof of the data obfuscation process using linear algebra.\n",
    "\n",
    "#### Steps of the Proof:\n",
    "\n",
    "| Step | Explanation | Importance |\n",
    "|------|-------------|-------------|\n",
    "| **1. Define the obfuscation** | The data obfuscation equation is presented as \\( X' = X \\times P \\), where \\( X \\) is the original data matrix and \\( P \\) is the invertible matrix used for obfuscation. | This shows how the data can be mathematically transformed to protect sensitive information. |\n",
    "| **2. Multiply both sides by \\( P^{-1} \\)** | We multiply both sides of the equation by \\( P^{-1} \\), leading to \\( X' \\times P^{-1} = (X \\times P) \\times P^{-1} \\). | This step is crucial because we need to \"undo\" the transformation of \\( P \\) to recover the original data. |\n",
    "| **3. Apply the associative property** | We use the associative property of matrix multiplication to rearrange the expression as \\( X' \\times P^{-1} = X \\times (P \\times P^{-1}) \\). | This ensures the mathematical operations are valid and we can apply the next property. |\n",
    "| **4. Apply the multiplicative identity** | We know that \\( P \\times P^{-1} = I \\), where \\( I \\) is the identity matrix. Therefore, we can simplify to \\( X' \\times P^{-1} = X \\times I \\). | This is a key step because it allows us to reduce the expression in such a way that the original data can be recovered. |\n",
    "| **5. Conclude that \\( X = X' \\times P^{-1} \\)** | Finally, we obtain \\( X = X' \\times P^{-1} \\), which proves that we can recover the original data by multiplying the obfuscated matrix by the inverse of \\( P \\). | This concludes the proof, showing that the obfuscation process is reversible and the original data can be recovered using \\( P^{-1} \\). |\n",
    "| **Importance of the analytical proof** | This proof is important because it guarantees that the data obfuscation process does not affect the original structure of the data in terms of machine learning. It assures that the model quality will not be impacted. | The mathematical proof provides confidence that data can be protected without compromising the functionality of predictive models. |\n"
   ]
  },
  {
   "cell_type": "markdown",
   "metadata": {},
   "source": [
    "## Linear Regression Test with Data Obfuscation"
   ]
  },
  {
   "cell_type": "markdown",
   "metadata": {},
   "source": [
    "Now, let's test whether linear regression can work, computationally, with the chosen obfuscation transformation. Build a procedure or a class that performs linear regression optionally with obfuscation. You can use a scikit-learn implementation of linear regression or your own implementation. \n",
    "\n",
    "Run the linear regression on both the original and obfuscated data, and compare the predicted values along with the RMSE and \\( R^2 \\) metrics. Is there any difference?\n"
   ]
  },
  {
   "cell_type": "markdown",
   "metadata": {},
   "source": [
    "**Procedure**\n",
    "\n",
    "- Create a square matrix \\( P \\) of random numbers.\n",
    "- Check that it is invertible. If it is not, repeat the first step until an invertible matrix is obtained.\n",
    "- <Your comment here!>\n",
    "- Use \\( XP \\) as the new feature matrix."
   ]
  },
  {
   "cell_type": "code",
   "execution_count": 56,
   "metadata": {},
   "outputs": [
    {
     "name": "stdout",
     "output_type": "stream",
     "text": [
      "Results with original data:\n",
      "RMSE: 0.4796870908837729, R²: 0.9811411501829225\n",
      "\n",
      "Results with obfuscated data:\n",
      "RMSE: 0.4796870908837731, R²: 0.9811411501829225\n",
      "   Original Predictions  Obfuscated Predictions\n",
      "0             11.433186               11.433186\n",
      "1              4.536384                4.536384\n",
      "2              8.930875                8.930875\n",
      "3              3.987136                3.987136\n",
      "4              6.303930                6.303930\n"
     ]
    }
   ],
   "source": [
    "# 1. Simulate random data\n",
    "np.random.seed(42)\n",
    "n_samples = 100  # Number of samples\n",
    "X = np.random.rand(n_samples, 3)  # Generate a 100x3 matrix of random data\n",
    "y = X[:, 0] * 5 + X[:, 1] * 10 + np.random.normal(0, 0.5, size=n_samples)  # Simulated target with some noise\n",
    "\n",
    "# 2. Generate a random invertible matrix P\n",
    "rng = np.random.default_rng(seed=42)\n",
    "P = rng.random(size=(X.shape[1], X.shape[1]))\n",
    "\n",
    "# Ensure P is invertible\n",
    "determinant = np.linalg.det(P)\n",
    "if determinant == 0:\n",
    "    raise ValueError(\"Matrix P is not invertible.\")\n",
    "P_inv = np.linalg.inv(P)\n",
    "\n",
    "# 3. Obfuscate the data\n",
    "X_prime = X @ P  # Obfuscated matrix\n",
    "\n",
    "# 4. Function to perform linear regression and calculate metrics\n",
    "def fit_and_evaluate(X, y):\n",
    "    model = LinearRegression()\n",
    "    model.fit(X, y)\n",
    "    y_pred = model.predict(X)\n",
    "    rmse = np.sqrt(mean_squared_error(y, y_pred))\n",
    "    r2 = r2_score(y, y_pred)\n",
    "    return y_pred, rmse, r2\n",
    "\n",
    "# 5. Regression with original data\n",
    "y_pred_original, rmse_original, r2_original = fit_and_evaluate(X, y)\n",
    "\n",
    "# 6. Regression with obfuscated data\n",
    "y_pred_obfuscated, rmse_obfuscated, r2_obfuscated = fit_and_evaluate(X_prime, y)\n",
    "\n",
    "# 7. Display results\n",
    "print(\"Results with original data:\")\n",
    "print(f\"RMSE: {rmse_original}, R²: {r2_original}\")\n",
    "print(\"\\nResults with obfuscated data:\")\n",
    "print(f\"RMSE: {rmse_obfuscated}, R²: {r2_obfuscated}\")\n",
    "\n",
    "# Compare some predictions\n",
    "comparison = pd.DataFrame({\n",
    "    'Original Predictions': y_pred_original[:5],\n",
    "    'Obfuscated Predictions': y_pred_obfuscated[:5]\n",
    "})\n",
    "print(comparison)\n"
   ]
  },
  {
   "cell_type": "markdown",
   "metadata": {},
   "source": [
    "# Conclusions"
   ]
  },
  {
   "cell_type": "markdown",
   "metadata": {},
   "source": [
    "\n",
    "- The linear regression model works with both the original data and the obfuscated data because the obfuscation preserves the fundamental mathematical structure of the data.\n",
    "\n",
    "- Matrices have many properties in linear algebra. Here are some of them that can help you when performing the analytical proof for this project."
   ]
  }
 ],
 "metadata": {
  "ExecuteTimeLog": [
   {
    "duration": 159,
    "start_time": "2024-09-29T23:14:18.472Z"
   },
   {
    "duration": 2405,
    "start_time": "2024-09-29T23:14:26.644Z"
   },
   {
    "duration": 2784,
    "start_time": "2024-09-29T23:14:29.052Z"
   },
   {
    "duration": 11,
    "start_time": "2024-09-29T23:14:31.840Z"
   },
   {
    "duration": 5,
    "start_time": "2024-09-29T23:14:31.853Z"
   },
   {
    "duration": 11,
    "start_time": "2024-09-29T23:14:31.860Z"
   },
   {
    "duration": 21,
    "start_time": "2024-09-29T23:14:31.873Z"
   },
   {
    "duration": 3,
    "start_time": "2024-09-29T23:14:31.896Z"
   },
   {
    "duration": 3,
    "start_time": "2024-09-29T23:14:31.900Z"
   },
   {
    "duration": 3,
    "start_time": "2024-09-29T23:14:31.904Z"
   },
   {
    "duration": 2697,
    "start_time": "2024-09-29T23:14:31.910Z"
   },
   {
    "duration": 4,
    "start_time": "2024-09-29T23:14:34.609Z"
   },
   {
    "duration": 6,
    "start_time": "2024-09-29T23:14:34.615Z"
   },
   {
    "duration": 0,
    "start_time": "2024-09-29T23:14:34.623Z"
   },
   {
    "duration": 0,
    "start_time": "2024-09-29T23:14:34.623Z"
   },
   {
    "duration": 0,
    "start_time": "2024-09-29T23:14:34.625Z"
   },
   {
    "duration": 0,
    "start_time": "2024-09-29T23:14:34.627Z"
   },
   {
    "duration": 0,
    "start_time": "2024-09-29T23:14:34.628Z"
   },
   {
    "duration": 0,
    "start_time": "2024-09-29T23:14:34.629Z"
   },
   {
    "duration": 0,
    "start_time": "2024-09-29T23:14:34.631Z"
   },
   {
    "duration": 1,
    "start_time": "2024-09-29T23:14:34.631Z"
   },
   {
    "duration": 0,
    "start_time": "2024-09-29T23:14:34.633Z"
   },
   {
    "duration": 0,
    "start_time": "2024-09-29T23:14:34.634Z"
   },
   {
    "duration": 0,
    "start_time": "2024-09-29T23:14:34.635Z"
   },
   {
    "duration": 0,
    "start_time": "2024-09-29T23:14:34.637Z"
   },
   {
    "duration": 0,
    "start_time": "2024-09-29T23:14:34.639Z"
   },
   {
    "duration": 3,
    "start_time": "2024-09-29T23:14:40.348Z"
   },
   {
    "duration": 9,
    "start_time": "2024-09-29T23:14:52.764Z"
   },
   {
    "duration": 18,
    "start_time": "2024-09-29T23:15:28.295Z"
   },
   {
    "duration": 4,
    "start_time": "2024-09-29T23:29:00.741Z"
   },
   {
    "duration": 3,
    "start_time": "2024-09-29T23:30:45.095Z"
   },
   {
    "duration": 11,
    "start_time": "2024-09-29T23:34:01.053Z"
   },
   {
    "duration": 8,
    "start_time": "2024-09-29T23:34:02.874Z"
   },
   {
    "duration": 2,
    "start_time": "2024-09-29T23:36:52.422Z"
   },
   {
    "duration": 96,
    "start_time": "2024-09-29T23:36:55.491Z"
   },
   {
    "duration": 4,
    "start_time": "2024-09-29T23:37:13.414Z"
   },
   {
    "duration": 10,
    "start_time": "2024-09-29T23:37:16.150Z"
   },
   {
    "duration": 8,
    "start_time": "2024-09-29T23:37:18.197Z"
   },
   {
    "duration": 3,
    "start_time": "2024-09-29T23:37:22.043Z"
   },
   {
    "duration": 21,
    "start_time": "2024-09-29T23:37:26.130Z"
   },
   {
    "duration": 17,
    "start_time": "2024-09-29T23:37:54.306Z"
   },
   {
    "duration": 5,
    "start_time": "2024-09-29T23:38:20.182Z"
   },
   {
    "duration": 6,
    "start_time": "2024-09-29T23:38:31.448Z"
   },
   {
    "duration": 6,
    "start_time": "2024-09-29T23:38:38.275Z"
   },
   {
    "duration": 13,
    "start_time": "2024-09-29T23:38:43.824Z"
   },
   {
    "duration": 4,
    "start_time": "2024-09-29T23:38:55.557Z"
   },
   {
    "duration": 3,
    "start_time": "2024-09-29T23:40:37.236Z"
   },
   {
    "duration": 31,
    "start_time": "2024-09-29T23:40:40.086Z"
   },
   {
    "duration": 3,
    "start_time": "2024-09-29T23:43:10.332Z"
   },
   {
    "duration": 2169,
    "start_time": "2024-09-29T23:43:15.847Z"
   },
   {
    "duration": 4,
    "start_time": "2024-09-29T23:43:18.019Z"
   },
   {
    "duration": 8,
    "start_time": "2024-09-29T23:43:18.025Z"
   },
   {
    "duration": 4,
    "start_time": "2024-09-29T23:43:18.034Z"
   },
   {
    "duration": 8,
    "start_time": "2024-09-29T23:43:18.040Z"
   },
   {
    "duration": 10,
    "start_time": "2024-09-29T23:43:18.050Z"
   },
   {
    "duration": 3,
    "start_time": "2024-09-29T23:43:18.062Z"
   },
   {
    "duration": 8,
    "start_time": "2024-09-29T23:43:18.066Z"
   },
   {
    "duration": 2,
    "start_time": "2024-09-29T23:43:18.086Z"
   },
   {
    "duration": 15,
    "start_time": "2024-09-29T23:43:18.090Z"
   },
   {
    "duration": 2582,
    "start_time": "2024-09-29T23:43:18.107Z"
   },
   {
    "duration": 2,
    "start_time": "2024-09-29T23:43:20.691Z"
   },
   {
    "duration": 4,
    "start_time": "2024-09-29T23:43:20.695Z"
   },
   {
    "duration": 8,
    "start_time": "2024-09-29T23:43:20.702Z"
   },
   {
    "duration": 9,
    "start_time": "2024-09-29T23:43:20.712Z"
   },
   {
    "duration": 3,
    "start_time": "2024-09-29T23:43:20.722Z"
   },
   {
    "duration": 8,
    "start_time": "2024-09-29T23:43:20.727Z"
   },
   {
    "duration": 6,
    "start_time": "2024-09-29T23:43:20.736Z"
   },
   {
    "duration": 44,
    "start_time": "2024-09-29T23:43:20.744Z"
   },
   {
    "duration": 0,
    "start_time": "2024-09-29T23:43:20.790Z"
   },
   {
    "duration": 0,
    "start_time": "2024-09-29T23:43:20.791Z"
   },
   {
    "duration": 0,
    "start_time": "2024-09-29T23:43:20.793Z"
   },
   {
    "duration": 0,
    "start_time": "2024-09-29T23:43:20.794Z"
   },
   {
    "duration": 0,
    "start_time": "2024-09-29T23:43:20.795Z"
   },
   {
    "duration": 0,
    "start_time": "2024-09-29T23:43:20.796Z"
   },
   {
    "duration": 0,
    "start_time": "2024-09-29T23:43:20.797Z"
   },
   {
    "duration": 0,
    "start_time": "2024-09-29T23:43:20.797Z"
   },
   {
    "duration": 0,
    "start_time": "2024-09-29T23:43:20.798Z"
   },
   {
    "duration": 0,
    "start_time": "2024-09-29T23:43:20.799Z"
   },
   {
    "duration": 19,
    "start_time": "2024-09-30T00:12:13.246Z"
   },
   {
    "duration": 23,
    "start_time": "2024-09-30T00:12:21.503Z"
   },
   {
    "duration": 8,
    "start_time": "2024-09-30T00:12:25.982Z"
   },
   {
    "duration": 16,
    "start_time": "2024-09-30T00:25:20.992Z"
   },
   {
    "duration": 4,
    "start_time": "2024-09-30T00:25:24.857Z"
   },
   {
    "duration": 23,
    "start_time": "2024-09-30T00:25:27.003Z"
   },
   {
    "duration": 3,
    "start_time": "2024-09-30T00:25:46.646Z"
   },
   {
    "duration": 39,
    "start_time": "2024-09-30T00:25:49.466Z"
   },
   {
    "duration": 11,
    "start_time": "2024-09-30T00:25:51.955Z"
   },
   {
    "duration": 2538,
    "start_time": "2024-09-30T22:27:44.903Z"
   },
   {
    "duration": 2766,
    "start_time": "2024-09-30T22:27:47.443Z"
   },
   {
    "duration": 11,
    "start_time": "2024-09-30T22:27:50.211Z"
   },
   {
    "duration": 3,
    "start_time": "2024-09-30T22:27:50.224Z"
   },
   {
    "duration": 11,
    "start_time": "2024-09-30T22:27:50.229Z"
   },
   {
    "duration": 9,
    "start_time": "2024-09-30T22:27:50.241Z"
   },
   {
    "duration": 3,
    "start_time": "2024-09-30T22:27:50.252Z"
   },
   {
    "duration": 8,
    "start_time": "2024-09-30T22:27:50.257Z"
   },
   {
    "duration": 3,
    "start_time": "2024-09-30T22:27:50.266Z"
   },
   {
    "duration": 17,
    "start_time": "2024-09-30T22:27:50.311Z"
   },
   {
    "duration": 2527,
    "start_time": "2024-09-30T22:27:50.330Z"
   },
   {
    "duration": 2,
    "start_time": "2024-09-30T22:27:52.859Z"
   },
   {
    "duration": 4,
    "start_time": "2024-09-30T22:27:52.863Z"
   },
   {
    "duration": 9,
    "start_time": "2024-09-30T22:27:52.869Z"
   },
   {
    "duration": 8,
    "start_time": "2024-09-30T22:27:52.880Z"
   },
   {
    "duration": 3,
    "start_time": "2024-09-30T22:27:52.890Z"
   },
   {
    "duration": 38,
    "start_time": "2024-09-30T22:27:52.909Z"
   },
   {
    "duration": 11,
    "start_time": "2024-09-30T22:27:52.949Z"
   },
   {
    "duration": 6,
    "start_time": "2024-09-30T22:27:52.961Z"
   },
   {
    "duration": 4,
    "start_time": "2024-09-30T22:27:52.970Z"
   },
   {
    "duration": 3,
    "start_time": "2024-09-30T22:27:52.976Z"
   },
   {
    "duration": 30,
    "start_time": "2024-09-30T22:27:52.981Z"
   },
   {
    "duration": 6,
    "start_time": "2024-09-30T22:27:53.013Z"
   },
   {
    "duration": 0,
    "start_time": "2024-09-30T22:27:53.021Z"
   },
   {
    "duration": 0,
    "start_time": "2024-09-30T22:27:53.022Z"
   },
   {
    "duration": 0,
    "start_time": "2024-09-30T22:27:53.023Z"
   },
   {
    "duration": 0,
    "start_time": "2024-09-30T22:27:53.025Z"
   },
   {
    "duration": 0,
    "start_time": "2024-09-30T22:27:53.026Z"
   },
   {
    "duration": 0,
    "start_time": "2024-09-30T22:27:53.027Z"
   },
   {
    "duration": 0,
    "start_time": "2024-09-30T22:27:53.028Z"
   },
   {
    "duration": 265,
    "start_time": "2024-09-30T22:28:18.247Z"
   },
   {
    "duration": 3,
    "start_time": "2024-09-30T22:28:57.539Z"
   },
   {
    "duration": 3,
    "start_time": "2024-09-30T22:29:00.801Z"
   },
   {
    "duration": 11,
    "start_time": "2024-09-30T22:29:03.228Z"
   },
   {
    "duration": 4,
    "start_time": "2024-09-30T22:29:22.906Z"
   },
   {
    "duration": 6,
    "start_time": "2024-09-30T22:29:37.436Z"
   },
   {
    "duration": 2141,
    "start_time": "2024-09-30T22:59:08.701Z"
   },
   {
    "duration": 3,
    "start_time": "2024-09-30T22:59:10.845Z"
   },
   {
    "duration": 10,
    "start_time": "2024-09-30T22:59:10.850Z"
   },
   {
    "duration": 3,
    "start_time": "2024-09-30T22:59:10.861Z"
   },
   {
    "duration": 8,
    "start_time": "2024-09-30T22:59:10.866Z"
   },
   {
    "duration": 9,
    "start_time": "2024-09-30T22:59:10.876Z"
   },
   {
    "duration": 3,
    "start_time": "2024-09-30T22:59:10.886Z"
   },
   {
    "duration": 7,
    "start_time": "2024-09-30T22:59:10.891Z"
   },
   {
    "duration": 2,
    "start_time": "2024-09-30T22:59:10.900Z"
   },
   {
    "duration": 16,
    "start_time": "2024-09-30T22:59:10.910Z"
   },
   {
    "duration": 2714,
    "start_time": "2024-09-30T22:59:10.929Z"
   },
   {
    "duration": 3,
    "start_time": "2024-09-30T22:59:13.646Z"
   },
   {
    "duration": 5,
    "start_time": "2024-09-30T22:59:13.650Z"
   },
   {
    "duration": 9,
    "start_time": "2024-09-30T22:59:13.657Z"
   },
   {
    "duration": 8,
    "start_time": "2024-09-30T22:59:13.668Z"
   },
   {
    "duration": 3,
    "start_time": "2024-09-30T22:59:13.677Z"
   },
   {
    "duration": 39,
    "start_time": "2024-09-30T22:59:13.708Z"
   },
   {
    "duration": 10,
    "start_time": "2024-09-30T22:59:13.749Z"
   },
   {
    "duration": 7,
    "start_time": "2024-09-30T22:59:13.760Z"
   },
   {
    "duration": 5,
    "start_time": "2024-09-30T22:59:13.768Z"
   },
   {
    "duration": 3,
    "start_time": "2024-09-30T22:59:13.775Z"
   },
   {
    "duration": 30,
    "start_time": "2024-09-30T22:59:13.780Z"
   },
   {
    "duration": 10,
    "start_time": "2024-09-30T22:59:13.811Z"
   },
   {
    "duration": 5,
    "start_time": "2024-09-30T22:59:13.823Z"
   },
   {
    "duration": 5,
    "start_time": "2024-09-30T22:59:19.174Z"
   },
   {
    "duration": 3,
    "start_time": "2024-09-30T22:59:19.181Z"
   },
   {
    "duration": 34,
    "start_time": "2024-09-30T22:59:19.186Z"
   },
   {
    "duration": 0,
    "start_time": "2024-09-30T22:59:19.222Z"
   },
   {
    "duration": 0,
    "start_time": "2024-09-30T22:59:19.224Z"
   },
   {
    "duration": 0,
    "start_time": "2024-09-30T22:59:19.226Z"
   },
   {
    "duration": 2142,
    "start_time": "2024-09-30T23:00:32.916Z"
   },
   {
    "duration": 6,
    "start_time": "2024-09-30T23:00:35.061Z"
   },
   {
    "duration": 9,
    "start_time": "2024-09-30T23:00:35.068Z"
   },
   {
    "duration": 4,
    "start_time": "2024-09-30T23:00:35.079Z"
   },
   {
    "duration": 9,
    "start_time": "2024-09-30T23:00:35.085Z"
   },
   {
    "duration": 9,
    "start_time": "2024-09-30T23:00:35.095Z"
   },
   {
    "duration": 4,
    "start_time": "2024-09-30T23:00:35.105Z"
   },
   {
    "duration": 8,
    "start_time": "2024-09-30T23:00:35.110Z"
   },
   {
    "duration": 2,
    "start_time": "2024-09-30T23:00:35.119Z"
   },
   {
    "duration": 15,
    "start_time": "2024-09-30T23:00:35.126Z"
   },
   {
    "duration": 2703,
    "start_time": "2024-09-30T23:00:35.143Z"
   },
   {
    "duration": 2,
    "start_time": "2024-09-30T23:00:37.848Z"
   },
   {
    "duration": 4,
    "start_time": "2024-09-30T23:00:37.852Z"
   },
   {
    "duration": 8,
    "start_time": "2024-09-30T23:00:37.857Z"
   },
   {
    "duration": 7,
    "start_time": "2024-09-30T23:00:37.867Z"
   },
   {
    "duration": 3,
    "start_time": "2024-09-30T23:00:37.875Z"
   },
   {
    "duration": 40,
    "start_time": "2024-09-30T23:00:37.908Z"
   },
   {
    "duration": 11,
    "start_time": "2024-09-30T23:00:37.950Z"
   },
   {
    "duration": 8,
    "start_time": "2024-09-30T23:00:37.962Z"
   },
   {
    "duration": 4,
    "start_time": "2024-09-30T23:00:37.972Z"
   },
   {
    "duration": 3,
    "start_time": "2024-09-30T23:00:37.978Z"
   },
   {
    "duration": 26,
    "start_time": "2024-09-30T23:00:37.983Z"
   },
   {
    "duration": 10,
    "start_time": "2024-09-30T23:00:38.011Z"
   },
   {
    "duration": 5,
    "start_time": "2024-09-30T23:00:38.023Z"
   },
   {
    "duration": 3,
    "start_time": "2024-09-30T23:00:38.030Z"
   },
   {
    "duration": 3,
    "start_time": "2024-09-30T23:00:38.036Z"
   },
   {
    "duration": 91,
    "start_time": "2024-09-30T23:00:38.041Z"
   },
   {
    "duration": 0,
    "start_time": "2024-09-30T23:00:38.208Z"
   },
   {
    "duration": 0,
    "start_time": "2024-09-30T23:00:38.210Z"
   },
   {
    "duration": 0,
    "start_time": "2024-09-30T23:00:38.212Z"
   },
   {
    "duration": 3,
    "start_time": "2024-09-30T23:02:38.400Z"
   },
   {
    "duration": 3,
    "start_time": "2024-09-30T23:02:42.564Z"
   },
   {
    "duration": 10,
    "start_time": "2024-09-30T23:02:48.744Z"
   },
   {
    "duration": 83,
    "start_time": "2024-09-30T23:14:32.722Z"
   },
   {
    "duration": 18,
    "start_time": "2024-09-30T23:17:59.589Z"
   },
   {
    "duration": 17,
    "start_time": "2024-09-30T23:18:44.219Z"
   },
   {
    "duration": 28,
    "start_time": "2024-09-30T23:20:17.486Z"
   },
   {
    "duration": 19,
    "start_time": "2024-09-30T23:21:04.366Z"
   },
   {
    "duration": 24,
    "start_time": "2024-09-30T23:22:00.501Z"
   },
   {
    "duration": 9,
    "start_time": "2024-09-30T23:22:49.859Z"
   },
   {
    "duration": 2435,
    "start_time": "2024-10-01T00:31:03.605Z"
   },
   {
    "duration": 2758,
    "start_time": "2024-10-01T00:31:06.043Z"
   },
   {
    "duration": 10,
    "start_time": "2024-10-01T00:31:08.803Z"
   },
   {
    "duration": 5,
    "start_time": "2024-10-01T00:31:08.816Z"
   },
   {
    "duration": 11,
    "start_time": "2024-10-01T00:31:08.824Z"
   },
   {
    "duration": 9,
    "start_time": "2024-10-01T00:31:08.837Z"
   },
   {
    "duration": 3,
    "start_time": "2024-10-01T00:31:08.848Z"
   },
   {
    "duration": 9,
    "start_time": "2024-10-01T00:31:08.852Z"
   },
   {
    "duration": 3,
    "start_time": "2024-10-01T00:31:08.887Z"
   },
   {
    "duration": 17,
    "start_time": "2024-10-01T00:31:08.894Z"
   },
   {
    "duration": 2567,
    "start_time": "2024-10-01T00:31:08.912Z"
   },
   {
    "duration": 4,
    "start_time": "2024-10-01T00:31:11.481Z"
   },
   {
    "duration": 3,
    "start_time": "2024-10-01T00:31:11.487Z"
   },
   {
    "duration": 8,
    "start_time": "2024-10-01T00:31:11.492Z"
   },
   {
    "duration": 8,
    "start_time": "2024-10-01T00:31:11.502Z"
   },
   {
    "duration": 3,
    "start_time": "2024-10-01T00:31:11.511Z"
   },
   {
    "duration": 38,
    "start_time": "2024-10-01T00:31:11.516Z"
   },
   {
    "duration": 40,
    "start_time": "2024-10-01T00:31:11.556Z"
   },
   {
    "duration": 6,
    "start_time": "2024-10-01T00:31:11.598Z"
   },
   {
    "duration": 5,
    "start_time": "2024-10-01T00:31:11.606Z"
   },
   {
    "duration": 3,
    "start_time": "2024-10-01T00:31:11.612Z"
   },
   {
    "duration": 4,
    "start_time": "2024-10-01T00:31:11.616Z"
   },
   {
    "duration": 11,
    "start_time": "2024-10-01T00:31:11.621Z"
   },
   {
    "duration": 5,
    "start_time": "2024-10-01T00:31:11.634Z"
   },
   {
    "duration": 4,
    "start_time": "2024-10-01T00:31:11.640Z"
   },
   {
    "duration": 43,
    "start_time": "2024-10-01T00:31:11.645Z"
   },
   {
    "duration": 8,
    "start_time": "2024-10-01T00:31:11.689Z"
   },
   {
    "duration": 3,
    "start_time": "2024-10-01T00:31:11.703Z"
   },
   {
    "duration": 8,
    "start_time": "2024-10-01T00:31:11.707Z"
   },
   {
    "duration": 70,
    "start_time": "2024-10-01T00:31:11.717Z"
   },
   {
    "duration": 11,
    "start_time": "2024-10-01T00:31:11.789Z"
   },
   {
    "duration": 6,
    "start_time": "2024-10-01T00:31:25.042Z"
   },
   {
    "duration": 345,
    "start_time": "2024-10-01T00:32:02.012Z"
   },
   {
    "duration": 9,
    "start_time": "2024-10-01T00:32:45.752Z"
   },
   {
    "duration": 10,
    "start_time": "2024-10-01T00:33:00.010Z"
   },
   {
    "duration": 11,
    "start_time": "2024-10-01T00:33:52.557Z"
   },
   {
    "duration": 12,
    "start_time": "2024-10-01T00:34:09.111Z"
   },
   {
    "duration": 12,
    "start_time": "2024-10-01T00:38:13.825Z"
   },
   {
    "duration": 5,
    "start_time": "2024-10-01T00:40:55.248Z"
   },
   {
    "duration": 2349,
    "start_time": "2024-10-01T01:07:59.194Z"
   },
   {
    "duration": 4,
    "start_time": "2024-10-01T01:08:01.545Z"
   },
   {
    "duration": 8,
    "start_time": "2024-10-01T01:08:01.551Z"
   },
   {
    "duration": 4,
    "start_time": "2024-10-01T01:08:01.562Z"
   },
   {
    "duration": 11,
    "start_time": "2024-10-01T01:08:01.568Z"
   },
   {
    "duration": 9,
    "start_time": "2024-10-01T01:08:01.581Z"
   },
   {
    "duration": 4,
    "start_time": "2024-10-01T01:08:01.591Z"
   },
   {
    "duration": 13,
    "start_time": "2024-10-01T01:08:01.596Z"
   },
   {
    "duration": 2,
    "start_time": "2024-10-01T01:08:01.610Z"
   },
   {
    "duration": 16,
    "start_time": "2024-10-01T01:08:01.617Z"
   },
   {
    "duration": 6,
    "start_time": "2024-10-01T01:08:01.634Z"
   },
   {
    "duration": 2704,
    "start_time": "2024-10-01T01:08:01.642Z"
   },
   {
    "duration": 2,
    "start_time": "2024-10-01T01:08:04.348Z"
   },
   {
    "duration": 4,
    "start_time": "2024-10-01T01:08:04.352Z"
   },
   {
    "duration": 8,
    "start_time": "2024-10-01T01:08:04.358Z"
   },
   {
    "duration": 8,
    "start_time": "2024-10-01T01:08:04.367Z"
   },
   {
    "duration": 2,
    "start_time": "2024-10-01T01:08:04.377Z"
   },
   {
    "duration": 40,
    "start_time": "2024-10-01T01:08:04.409Z"
   },
   {
    "duration": 11,
    "start_time": "2024-10-01T01:08:04.451Z"
   },
   {
    "duration": 6,
    "start_time": "2024-10-01T01:08:04.464Z"
   },
   {
    "duration": 4,
    "start_time": "2024-10-01T01:08:04.472Z"
   },
   {
    "duration": 3,
    "start_time": "2024-10-01T01:08:04.478Z"
   },
   {
    "duration": 2,
    "start_time": "2024-10-01T01:08:04.510Z"
   },
   {
    "duration": 11,
    "start_time": "2024-10-01T01:08:04.514Z"
   },
   {
    "duration": 5,
    "start_time": "2024-10-01T01:08:04.526Z"
   },
   {
    "duration": 3,
    "start_time": "2024-10-01T01:08:04.533Z"
   },
   {
    "duration": 2,
    "start_time": "2024-10-01T01:08:04.538Z"
   },
   {
    "duration": 63,
    "start_time": "2024-10-01T01:08:04.545Z"
   },
   {
    "duration": 5,
    "start_time": "2024-10-01T01:08:04.612Z"
   },
   {
    "duration": 2,
    "start_time": "2024-10-01T01:08:04.622Z"
   },
   {
    "duration": 3,
    "start_time": "2024-10-01T01:08:04.629Z"
   },
   {
    "duration": 9,
    "start_time": "2024-10-01T01:08:04.709Z"
   },
   {
    "duration": 5,
    "start_time": "2024-10-01T01:08:04.720Z"
   },
   {
    "duration": 14,
    "start_time": "2024-10-01T01:08:04.727Z"
   },
   {
    "duration": 5,
    "start_time": "2024-10-01T01:08:40.525Z"
   },
   {
    "duration": 7,
    "start_time": "2024-10-01T01:09:08.213Z"
   },
   {
    "duration": 2216,
    "start_time": "2024-10-01T01:09:16.178Z"
   },
   {
    "duration": 4,
    "start_time": "2024-10-01T01:09:18.397Z"
   },
   {
    "duration": 9,
    "start_time": "2024-10-01T01:09:18.402Z"
   },
   {
    "duration": 4,
    "start_time": "2024-10-01T01:09:18.413Z"
   },
   {
    "duration": 8,
    "start_time": "2024-10-01T01:09:18.418Z"
   },
   {
    "duration": 9,
    "start_time": "2024-10-01T01:09:18.428Z"
   },
   {
    "duration": 5,
    "start_time": "2024-10-01T01:09:18.438Z"
   },
   {
    "duration": 8,
    "start_time": "2024-10-01T01:09:18.444Z"
   },
   {
    "duration": 2,
    "start_time": "2024-10-01T01:09:18.454Z"
   },
   {
    "duration": 53,
    "start_time": "2024-10-01T01:09:18.461Z"
   },
   {
    "duration": 6,
    "start_time": "2024-10-01T01:09:18.516Z"
   },
   {
    "duration": 2652,
    "start_time": "2024-10-01T01:09:18.524Z"
   },
   {
    "duration": 3,
    "start_time": "2024-10-01T01:09:21.177Z"
   },
   {
    "duration": 4,
    "start_time": "2024-10-01T01:09:21.182Z"
   },
   {
    "duration": 28,
    "start_time": "2024-10-01T01:09:21.187Z"
   },
   {
    "duration": 8,
    "start_time": "2024-10-01T01:09:21.217Z"
   },
   {
    "duration": 2,
    "start_time": "2024-10-01T01:09:21.227Z"
   },
   {
    "duration": 37,
    "start_time": "2024-10-01T01:09:21.231Z"
   },
   {
    "duration": 11,
    "start_time": "2024-10-01T01:09:21.269Z"
   },
   {
    "duration": 29,
    "start_time": "2024-10-01T01:09:21.281Z"
   },
   {
    "duration": 4,
    "start_time": "2024-10-01T01:09:21.312Z"
   },
   {
    "duration": 3,
    "start_time": "2024-10-01T01:09:21.318Z"
   },
   {
    "duration": 4,
    "start_time": "2024-10-01T01:09:21.323Z"
   },
   {
    "duration": 11,
    "start_time": "2024-10-01T01:09:21.328Z"
   },
   {
    "duration": 5,
    "start_time": "2024-10-01T01:09:21.340Z"
   },
   {
    "duration": 4,
    "start_time": "2024-10-01T01:09:21.347Z"
   },
   {
    "duration": 3,
    "start_time": "2024-10-01T01:09:21.353Z"
   },
   {
    "duration": 53,
    "start_time": "2024-10-01T01:09:21.359Z"
   },
   {
    "duration": 4,
    "start_time": "2024-10-01T01:09:21.413Z"
   },
   {
    "duration": 2,
    "start_time": "2024-10-01T01:09:21.419Z"
   },
   {
    "duration": 3,
    "start_time": "2024-10-01T01:09:21.422Z"
   },
   {
    "duration": 83,
    "start_time": "2024-10-01T01:09:21.427Z"
   },
   {
    "duration": 7,
    "start_time": "2024-10-01T01:09:21.512Z"
   },
   {
    "duration": 14,
    "start_time": "2024-10-01T01:09:21.521Z"
   },
   {
    "duration": 7,
    "start_time": "2024-10-01T01:10:18.584Z"
   },
   {
    "duration": 6,
    "start_time": "2024-10-01T01:10:52.539Z"
   },
   {
    "duration": 2200,
    "start_time": "2024-10-01T01:11:06.129Z"
   },
   {
    "duration": 2117,
    "start_time": "2024-10-01T01:11:11.085Z"
   },
   {
    "duration": 3,
    "start_time": "2024-10-01T01:11:13.205Z"
   },
   {
    "duration": 8,
    "start_time": "2024-10-01T01:11:13.210Z"
   },
   {
    "duration": 3,
    "start_time": "2024-10-01T01:11:13.220Z"
   },
   {
    "duration": 8,
    "start_time": "2024-10-01T01:11:13.225Z"
   },
   {
    "duration": 9,
    "start_time": "2024-10-01T01:11:13.235Z"
   },
   {
    "duration": 2,
    "start_time": "2024-10-01T01:11:13.246Z"
   },
   {
    "duration": 8,
    "start_time": "2024-10-01T01:11:13.250Z"
   },
   {
    "duration": 2,
    "start_time": "2024-10-01T01:11:13.260Z"
   },
   {
    "duration": 53,
    "start_time": "2024-10-01T01:11:13.266Z"
   },
   {
    "duration": 5,
    "start_time": "2024-10-01T01:11:13.321Z"
   },
   {
    "duration": 195,
    "start_time": "2024-10-01T01:11:13.328Z"
   },
   {
    "duration": 0,
    "start_time": "2024-10-01T01:11:13.526Z"
   },
   {
    "duration": 0,
    "start_time": "2024-10-01T01:11:13.527Z"
   },
   {
    "duration": 0,
    "start_time": "2024-10-01T01:11:13.528Z"
   },
   {
    "duration": 0,
    "start_time": "2024-10-01T01:11:13.530Z"
   },
   {
    "duration": 0,
    "start_time": "2024-10-01T01:11:13.531Z"
   },
   {
    "duration": 0,
    "start_time": "2024-10-01T01:11:13.532Z"
   },
   {
    "duration": 0,
    "start_time": "2024-10-01T01:11:13.534Z"
   },
   {
    "duration": 0,
    "start_time": "2024-10-01T01:11:13.535Z"
   },
   {
    "duration": 0,
    "start_time": "2024-10-01T01:11:13.537Z"
   },
   {
    "duration": 0,
    "start_time": "2024-10-01T01:11:13.539Z"
   },
   {
    "duration": 0,
    "start_time": "2024-10-01T01:11:13.540Z"
   },
   {
    "duration": 0,
    "start_time": "2024-10-01T01:11:13.541Z"
   },
   {
    "duration": 0,
    "start_time": "2024-10-01T01:11:13.543Z"
   },
   {
    "duration": 0,
    "start_time": "2024-10-01T01:11:13.545Z"
   },
   {
    "duration": 0,
    "start_time": "2024-10-01T01:11:13.546Z"
   },
   {
    "duration": 0,
    "start_time": "2024-10-01T01:11:13.547Z"
   },
   {
    "duration": 0,
    "start_time": "2024-10-01T01:11:13.548Z"
   },
   {
    "duration": 0,
    "start_time": "2024-10-01T01:11:13.549Z"
   },
   {
    "duration": 0,
    "start_time": "2024-10-01T01:11:13.550Z"
   },
   {
    "duration": 0,
    "start_time": "2024-10-01T01:11:13.551Z"
   },
   {
    "duration": 0,
    "start_time": "2024-10-01T01:11:13.552Z"
   },
   {
    "duration": 0,
    "start_time": "2024-10-01T01:11:13.553Z"
   },
   {
    "duration": 1009,
    "start_time": "2024-10-01T01:13:07.100Z"
   },
   {
    "duration": 7,
    "start_time": "2024-10-01T01:13:08.111Z"
   },
   {
    "duration": 3,
    "start_time": "2024-10-01T01:13:08.120Z"
   },
   {
    "duration": 10,
    "start_time": "2024-10-01T01:13:08.126Z"
   },
   {
    "duration": 9,
    "start_time": "2024-10-01T01:13:08.138Z"
   },
   {
    "duration": 3,
    "start_time": "2024-10-01T01:13:08.148Z"
   },
   {
    "duration": 7,
    "start_time": "2024-10-01T01:13:08.153Z"
   },
   {
    "duration": 3,
    "start_time": "2024-10-01T01:13:08.162Z"
   },
   {
    "duration": 56,
    "start_time": "2024-10-01T01:13:08.167Z"
   },
   {
    "duration": 238,
    "start_time": "2024-10-01T01:13:08.225Z"
   },
   {
    "duration": 0,
    "start_time": "2024-10-01T01:13:08.466Z"
   },
   {
    "duration": 0,
    "start_time": "2024-10-01T01:13:08.467Z"
   },
   {
    "duration": 0,
    "start_time": "2024-10-01T01:13:08.469Z"
   },
   {
    "duration": 0,
    "start_time": "2024-10-01T01:13:08.470Z"
   },
   {
    "duration": 0,
    "start_time": "2024-10-01T01:13:08.472Z"
   },
   {
    "duration": 0,
    "start_time": "2024-10-01T01:13:08.474Z"
   },
   {
    "duration": 0,
    "start_time": "2024-10-01T01:13:08.475Z"
   },
   {
    "duration": 0,
    "start_time": "2024-10-01T01:13:08.477Z"
   },
   {
    "duration": 0,
    "start_time": "2024-10-01T01:13:08.479Z"
   },
   {
    "duration": 0,
    "start_time": "2024-10-01T01:13:08.480Z"
   },
   {
    "duration": 0,
    "start_time": "2024-10-01T01:13:08.482Z"
   },
   {
    "duration": 0,
    "start_time": "2024-10-01T01:13:08.483Z"
   },
   {
    "duration": 0,
    "start_time": "2024-10-01T01:13:08.484Z"
   },
   {
    "duration": 0,
    "start_time": "2024-10-01T01:13:08.510Z"
   },
   {
    "duration": 0,
    "start_time": "2024-10-01T01:13:08.511Z"
   },
   {
    "duration": 0,
    "start_time": "2024-10-01T01:13:08.512Z"
   },
   {
    "duration": 0,
    "start_time": "2024-10-01T01:13:08.513Z"
   },
   {
    "duration": 0,
    "start_time": "2024-10-01T01:13:08.514Z"
   },
   {
    "duration": 0,
    "start_time": "2024-10-01T01:13:08.516Z"
   },
   {
    "duration": 0,
    "start_time": "2024-10-01T01:13:08.517Z"
   },
   {
    "duration": 0,
    "start_time": "2024-10-01T01:13:08.519Z"
   },
   {
    "duration": 0,
    "start_time": "2024-10-01T01:13:08.520Z"
   },
   {
    "duration": 0,
    "start_time": "2024-10-01T01:13:08.522Z"
   },
   {
    "duration": 4,
    "start_time": "2024-10-01T01:13:36.414Z"
   },
   {
    "duration": 16,
    "start_time": "2024-10-01T01:13:49.862Z"
   },
   {
    "duration": 14,
    "start_time": "2024-10-01T01:13:55.940Z"
   },
   {
    "duration": 17,
    "start_time": "2024-10-01T01:14:12.377Z"
   },
   {
    "duration": 3,
    "start_time": "2024-10-01T01:14:20.183Z"
   },
   {
    "duration": 7,
    "start_time": "2024-10-01T01:14:23.551Z"
   },
   {
    "duration": 3,
    "start_time": "2024-10-01T01:14:26.225Z"
   },
   {
    "duration": 9,
    "start_time": "2024-10-01T01:14:28.105Z"
   },
   {
    "duration": 10,
    "start_time": "2024-10-01T01:14:30.696Z"
   },
   {
    "duration": 3,
    "start_time": "2024-10-01T01:14:33.795Z"
   },
   {
    "duration": 9,
    "start_time": "2024-10-01T01:14:36.585Z"
   },
   {
    "duration": 17,
    "start_time": "2024-10-01T01:14:39.345Z"
   },
   {
    "duration": 4,
    "start_time": "2024-10-01T01:14:42.281Z"
   },
   {
    "duration": 5,
    "start_time": "2024-10-01T01:14:55.504Z"
   },
   {
    "duration": 2537,
    "start_time": "2024-10-01T01:14:59.200Z"
   },
   {
    "duration": 3,
    "start_time": "2024-10-01T01:15:03.232Z"
   },
   {
    "duration": 4,
    "start_time": "2024-10-01T01:15:06.027Z"
   },
   {
    "duration": 9,
    "start_time": "2024-10-01T01:15:09.504Z"
   },
   {
    "duration": 9,
    "start_time": "2024-10-01T01:15:11.618Z"
   },
   {
    "duration": 3,
    "start_time": "2024-10-01T01:15:14.919Z"
   },
   {
    "duration": 38,
    "start_time": "2024-10-01T01:15:17.839Z"
   },
   {
    "duration": 11,
    "start_time": "2024-10-01T01:15:20.128Z"
   },
   {
    "duration": 7,
    "start_time": "2024-10-01T01:15:25.538Z"
   },
   {
    "duration": 5,
    "start_time": "2024-10-01T01:15:27.734Z"
   },
   {
    "duration": 3,
    "start_time": "2024-10-01T01:15:31.448Z"
   },
   {
    "duration": 3,
    "start_time": "2024-10-01T01:15:33.892Z"
   },
   {
    "duration": 12,
    "start_time": "2024-10-01T01:15:36.279Z"
   },
   {
    "duration": 5,
    "start_time": "2024-10-01T01:15:39.602Z"
   },
   {
    "duration": 3,
    "start_time": "2024-10-01T01:15:43.903Z"
   },
   {
    "duration": 3,
    "start_time": "2024-10-01T01:15:46.099Z"
   },
   {
    "duration": 7,
    "start_time": "2024-10-01T01:15:49.362Z"
   },
   {
    "duration": 4,
    "start_time": "2024-10-01T01:15:53.608Z"
   },
   {
    "duration": 3,
    "start_time": "2024-10-01T01:15:55.718Z"
   },
   {
    "duration": 4,
    "start_time": "2024-10-01T01:15:57.824Z"
   },
   {
    "duration": 9,
    "start_time": "2024-10-01T01:16:02.886Z"
   },
   {
    "duration": 6,
    "start_time": "2024-10-01T01:16:10.966Z"
   },
   {
    "duration": 13,
    "start_time": "2024-10-01T01:16:18.304Z"
   },
   {
    "duration": 10,
    "start_time": "2024-10-01T01:18:29.978Z"
   },
   {
    "duration": 4,
    "start_time": "2024-10-01T01:19:10.760Z"
   },
   {
    "duration": 13,
    "start_time": "2024-10-01T01:27:33.297Z"
   },
   {
    "duration": 4,
    "start_time": "2024-10-01T01:28:22.201Z"
   },
   {
    "duration": 6,
    "start_time": "2024-10-01T01:31:26.136Z"
   },
   {
    "duration": 155,
    "start_time": "2024-10-01T01:50:54.484Z"
   },
   {
    "duration": 2740,
    "start_time": "2024-10-01T01:51:01.524Z"
   },
   {
    "duration": 10,
    "start_time": "2024-10-01T01:51:04.267Z"
   },
   {
    "duration": 3,
    "start_time": "2024-10-01T01:51:04.278Z"
   },
   {
    "duration": 23,
    "start_time": "2024-10-01T01:51:04.283Z"
   },
   {
    "duration": 8,
    "start_time": "2024-10-01T01:51:04.308Z"
   },
   {
    "duration": 3,
    "start_time": "2024-10-01T01:51:04.318Z"
   },
   {
    "duration": 8,
    "start_time": "2024-10-01T01:51:04.323Z"
   },
   {
    "duration": 2,
    "start_time": "2024-10-01T01:51:04.332Z"
   },
   {
    "duration": 17,
    "start_time": "2024-10-01T01:51:04.335Z"
   },
   {
    "duration": 4,
    "start_time": "2024-10-01T01:51:04.353Z"
   },
   {
    "duration": 2583,
    "start_time": "2024-10-01T01:51:04.359Z"
   },
   {
    "duration": 3,
    "start_time": "2024-10-01T01:51:06.943Z"
   },
   {
    "duration": 4,
    "start_time": "2024-10-01T01:51:06.947Z"
   },
   {
    "duration": 8,
    "start_time": "2024-10-01T01:51:06.955Z"
   },
   {
    "duration": 7,
    "start_time": "2024-10-01T01:51:06.965Z"
   },
   {
    "duration": 2,
    "start_time": "2024-10-01T01:51:06.974Z"
   },
   {
    "duration": 55,
    "start_time": "2024-10-01T01:51:06.978Z"
   },
   {
    "duration": 10,
    "start_time": "2024-10-01T01:51:07.034Z"
   },
   {
    "duration": 5,
    "start_time": "2024-10-01T01:51:07.047Z"
   },
   {
    "duration": 5,
    "start_time": "2024-10-01T01:51:07.053Z"
   },
   {
    "duration": 3,
    "start_time": "2024-10-01T01:51:07.060Z"
   },
   {
    "duration": 3,
    "start_time": "2024-10-01T01:51:07.065Z"
   },
   {
    "duration": 44,
    "start_time": "2024-10-01T01:51:07.070Z"
   },
   {
    "duration": 6,
    "start_time": "2024-10-01T01:51:07.116Z"
   },
   {
    "duration": 4,
    "start_time": "2024-10-01T01:51:07.123Z"
   },
   {
    "duration": 4,
    "start_time": "2024-10-01T01:51:07.129Z"
   },
   {
    "duration": 7,
    "start_time": "2024-10-01T01:51:07.134Z"
   },
   {
    "duration": 3,
    "start_time": "2024-10-01T01:51:07.143Z"
   },
   {
    "duration": 3,
    "start_time": "2024-10-01T01:51:07.147Z"
   },
   {
    "duration": 3,
    "start_time": "2024-10-01T01:51:07.205Z"
   },
   {
    "duration": 15,
    "start_time": "2024-10-01T01:51:07.210Z"
   },
   {
    "duration": 80,
    "start_time": "2024-10-01T01:51:07.227Z"
   },
   {
    "duration": 7,
    "start_time": "2024-10-01T01:51:22.354Z"
   },
   {
    "duration": 92,
    "start_time": "2024-10-01T01:52:31.631Z"
   },
   {
    "duration": 497,
    "start_time": "2024-10-01T01:52:39.462Z"
   },
   {
    "duration": 16,
    "start_time": "2024-10-01T01:53:48.976Z"
   },
   {
    "duration": 6,
    "start_time": "2024-10-01T01:54:29.778Z"
   },
   {
    "duration": 8,
    "start_time": "2024-10-01T01:55:13.155Z"
   },
   {
    "duration": 8,
    "start_time": "2024-10-01T01:56:14.810Z"
   },
   {
    "duration": 7,
    "start_time": "2024-10-01T01:56:39.000Z"
   },
   {
    "duration": 12,
    "start_time": "2024-10-01T02:00:35.636Z"
   },
   {
    "duration": 5,
    "start_time": "2024-10-01T02:03:29.172Z"
   },
   {
    "duration": 367,
    "start_time": "2024-10-01T02:03:33.730Z"
   },
   {
    "duration": 31,
    "start_time": "2024-10-01T02:08:05.761Z"
   },
   {
    "duration": 30,
    "start_time": "2024-10-01T02:08:59.157Z"
   },
   {
    "duration": 3,
    "start_time": "2024-10-01T02:11:27.094Z"
   },
   {
    "duration": 9,
    "start_time": "2024-10-01T02:11:27.100Z"
   },
   {
    "duration": 3,
    "start_time": "2024-10-01T02:11:27.111Z"
   },
   {
    "duration": 8,
    "start_time": "2024-10-01T02:11:27.116Z"
   },
   {
    "duration": 10,
    "start_time": "2024-10-01T02:11:27.126Z"
   },
   {
    "duration": 2,
    "start_time": "2024-10-01T02:11:27.140Z"
   },
   {
    "duration": 9,
    "start_time": "2024-10-01T02:11:27.144Z"
   },
   {
    "duration": 3,
    "start_time": "2024-10-01T02:11:27.154Z"
   },
   {
    "duration": 48,
    "start_time": "2024-10-01T02:11:27.160Z"
   },
   {
    "duration": 7,
    "start_time": "2024-10-01T02:11:27.209Z"
   },
   {
    "duration": 2587,
    "start_time": "2024-10-01T02:11:27.218Z"
   },
   {
    "duration": 3,
    "start_time": "2024-10-01T02:11:29.807Z"
   },
   {
    "duration": 4,
    "start_time": "2024-10-01T02:11:29.811Z"
   },
   {
    "duration": 9,
    "start_time": "2024-10-01T02:11:29.817Z"
   },
   {
    "duration": 8,
    "start_time": "2024-10-01T02:11:29.827Z"
   },
   {
    "duration": 4,
    "start_time": "2024-10-01T02:11:29.836Z"
   },
   {
    "duration": 66,
    "start_time": "2024-10-01T02:11:29.842Z"
   },
   {
    "duration": 10,
    "start_time": "2024-10-01T02:11:29.910Z"
   },
   {
    "duration": 6,
    "start_time": "2024-10-01T02:11:29.921Z"
   },
   {
    "duration": 4,
    "start_time": "2024-10-01T02:11:29.929Z"
   },
   {
    "duration": 2,
    "start_time": "2024-10-01T02:11:29.935Z"
   },
   {
    "duration": 3,
    "start_time": "2024-10-01T02:11:29.939Z"
   },
   {
    "duration": 10,
    "start_time": "2024-10-01T02:11:29.944Z"
   },
   {
    "duration": 5,
    "start_time": "2024-10-01T02:11:29.955Z"
   },
   {
    "duration": 44,
    "start_time": "2024-10-01T02:11:29.962Z"
   },
   {
    "duration": 3,
    "start_time": "2024-10-01T02:11:30.008Z"
   },
   {
    "duration": 11,
    "start_time": "2024-10-01T02:11:30.012Z"
   },
   {
    "duration": 3,
    "start_time": "2024-10-01T02:11:30.025Z"
   },
   {
    "duration": 3,
    "start_time": "2024-10-01T02:11:30.030Z"
   },
   {
    "duration": 71,
    "start_time": "2024-10-01T02:11:30.034Z"
   },
   {
    "duration": 14,
    "start_time": "2024-10-01T02:11:30.107Z"
   },
   {
    "duration": 6,
    "start_time": "2024-10-01T02:11:30.123Z"
   },
   {
    "duration": 77,
    "start_time": "2024-10-01T02:11:30.131Z"
   },
   {
    "duration": 6,
    "start_time": "2024-10-01T02:11:30.210Z"
   },
   {
    "duration": 402,
    "start_time": "2024-10-01T02:11:30.217Z"
   },
   {
    "duration": 17,
    "start_time": "2024-10-01T02:12:26.532Z"
   },
   {
    "duration": 92,
    "start_time": "2024-10-01T02:12:53.173Z"
   },
   {
    "duration": 5,
    "start_time": "2024-10-01T02:13:04.332Z"
   },
   {
    "duration": 47,
    "start_time": "2024-10-01T02:13:07.795Z"
   },
   {
    "duration": 4,
    "start_time": "2024-10-01T02:13:12.402Z"
   },
   {
    "duration": 46,
    "start_time": "2024-10-01T02:13:15.990Z"
   },
   {
    "duration": 4,
    "start_time": "2024-10-01T02:13:29.631Z"
   },
   {
    "duration": 48,
    "start_time": "2024-10-01T02:13:32.834Z"
   },
   {
    "duration": 177,
    "start_time": "2024-10-01T03:36:48.208Z"
   },
   {
    "duration": 2793,
    "start_time": "2024-10-01T03:36:58.978Z"
   },
   {
    "duration": 15,
    "start_time": "2024-10-01T03:37:01.773Z"
   },
   {
    "duration": 5,
    "start_time": "2024-10-01T03:37:01.791Z"
   },
   {
    "duration": 14,
    "start_time": "2024-10-01T03:37:01.799Z"
   },
   {
    "duration": 21,
    "start_time": "2024-10-01T03:37:01.815Z"
   },
   {
    "duration": 4,
    "start_time": "2024-10-01T03:37:01.838Z"
   },
   {
    "duration": 9,
    "start_time": "2024-10-01T03:37:01.843Z"
   },
   {
    "duration": 2,
    "start_time": "2024-10-01T03:37:01.854Z"
   },
   {
    "duration": 16,
    "start_time": "2024-10-01T03:37:01.858Z"
   },
   {
    "duration": 127,
    "start_time": "2024-10-01T03:37:01.878Z"
   },
   {
    "duration": 0,
    "start_time": "2024-10-01T03:37:02.007Z"
   },
   {
    "duration": 0,
    "start_time": "2024-10-01T03:37:02.008Z"
   },
   {
    "duration": 0,
    "start_time": "2024-10-01T03:37:02.009Z"
   },
   {
    "duration": 0,
    "start_time": "2024-10-01T03:37:02.010Z"
   },
   {
    "duration": 0,
    "start_time": "2024-10-01T03:37:02.011Z"
   },
   {
    "duration": 0,
    "start_time": "2024-10-01T03:37:02.012Z"
   },
   {
    "duration": 0,
    "start_time": "2024-10-01T03:37:02.013Z"
   },
   {
    "duration": 1,
    "start_time": "2024-10-01T03:37:02.030Z"
   },
   {
    "duration": 0,
    "start_time": "2024-10-01T03:37:02.032Z"
   },
   {
    "duration": 0,
    "start_time": "2024-10-01T03:37:02.033Z"
   },
   {
    "duration": 0,
    "start_time": "2024-10-01T03:37:02.035Z"
   },
   {
    "duration": 0,
    "start_time": "2024-10-01T03:37:02.036Z"
   },
   {
    "duration": 0,
    "start_time": "2024-10-01T03:37:02.038Z"
   },
   {
    "duration": 0,
    "start_time": "2024-10-01T03:37:02.039Z"
   },
   {
    "duration": 0,
    "start_time": "2024-10-01T03:37:02.041Z"
   },
   {
    "duration": 0,
    "start_time": "2024-10-01T03:37:02.042Z"
   },
   {
    "duration": 0,
    "start_time": "2024-10-01T03:37:02.043Z"
   },
   {
    "duration": 0,
    "start_time": "2024-10-01T03:37:02.045Z"
   },
   {
    "duration": 0,
    "start_time": "2024-10-01T03:37:02.046Z"
   },
   {
    "duration": 0,
    "start_time": "2024-10-01T03:37:02.048Z"
   },
   {
    "duration": 0,
    "start_time": "2024-10-01T03:37:02.049Z"
   },
   {
    "duration": 0,
    "start_time": "2024-10-01T03:37:02.051Z"
   },
   {
    "duration": 0,
    "start_time": "2024-10-01T03:37:02.053Z"
   },
   {
    "duration": 0,
    "start_time": "2024-10-01T03:37:02.054Z"
   },
   {
    "duration": 20,
    "start_time": "2024-10-01T03:37:31.362Z"
   },
   {
    "duration": 2663,
    "start_time": "2024-10-01T03:37:40.425Z"
   },
   {
    "duration": 7,
    "start_time": "2024-10-01T03:37:58.206Z"
   },
   {
    "duration": 3,
    "start_time": "2024-10-01T03:38:07.368Z"
   },
   {
    "duration": 4,
    "start_time": "2024-10-01T03:38:07.375Z"
   },
   {
    "duration": 9,
    "start_time": "2024-10-01T03:38:07.381Z"
   },
   {
    "duration": 8,
    "start_time": "2024-10-01T03:38:07.391Z"
   },
   {
    "duration": 3,
    "start_time": "2024-10-01T03:38:07.400Z"
   },
   {
    "duration": 38,
    "start_time": "2024-10-01T03:38:07.405Z"
   },
   {
    "duration": 11,
    "start_time": "2024-10-01T03:38:07.444Z"
   },
   {
    "duration": 6,
    "start_time": "2024-10-01T03:38:07.456Z"
   },
   {
    "duration": 4,
    "start_time": "2024-10-01T03:38:07.465Z"
   },
   {
    "duration": 3,
    "start_time": "2024-10-01T03:38:07.471Z"
   },
   {
    "duration": 3,
    "start_time": "2024-10-01T03:38:07.475Z"
   },
   {
    "duration": 10,
    "start_time": "2024-10-01T03:38:07.480Z"
   },
   {
    "duration": 42,
    "start_time": "2024-10-01T03:38:07.492Z"
   },
   {
    "duration": 4,
    "start_time": "2024-10-01T03:38:07.536Z"
   },
   {
    "duration": 3,
    "start_time": "2024-10-01T03:38:07.542Z"
   },
   {
    "duration": 8,
    "start_time": "2024-10-01T03:38:07.547Z"
   },
   {
    "duration": 3,
    "start_time": "2024-10-01T03:38:07.558Z"
   },
   {
    "duration": 3,
    "start_time": "2024-10-01T03:38:07.563Z"
   },
   {
    "duration": 67,
    "start_time": "2024-10-01T03:38:07.567Z"
   },
   {
    "duration": 13,
    "start_time": "2024-10-01T03:38:07.636Z"
   },
   {
    "duration": 6,
    "start_time": "2024-10-01T03:38:07.651Z"
   },
   {
    "duration": 83,
    "start_time": "2024-10-01T03:38:07.658Z"
   },
   {
    "duration": 18,
    "start_time": "2024-10-01T03:38:07.743Z"
   },
   {
    "duration": 14,
    "start_time": "2024-10-01T03:41:43.448Z"
   },
   {
    "duration": 8,
    "start_time": "2024-10-03T06:52:43.863Z"
   },
   {
    "duration": 171,
    "start_time": "2024-10-05T01:01:46.549Z"
   },
   {
    "duration": 2912,
    "start_time": "2024-10-05T01:01:55.675Z"
   },
   {
    "duration": 14,
    "start_time": "2024-10-05T01:01:58.589Z"
   },
   {
    "duration": 3,
    "start_time": "2024-10-05T01:01:58.605Z"
   },
   {
    "duration": 11,
    "start_time": "2024-10-05T01:01:58.610Z"
   },
   {
    "duration": 9,
    "start_time": "2024-10-05T01:01:58.622Z"
   },
   {
    "duration": 4,
    "start_time": "2024-10-05T01:01:58.632Z"
   },
   {
    "duration": 23,
    "start_time": "2024-10-05T01:01:58.646Z"
   },
   {
    "duration": 4,
    "start_time": "2024-10-05T01:01:58.671Z"
   },
   {
    "duration": 21,
    "start_time": "2024-10-05T01:01:58.676Z"
   },
   {
    "duration": 8,
    "start_time": "2024-10-05T01:01:58.701Z"
   },
   {
    "duration": 2609,
    "start_time": "2024-10-05T01:01:58.710Z"
   },
   {
    "duration": 2,
    "start_time": "2024-10-05T01:02:01.321Z"
   },
   {
    "duration": 4,
    "start_time": "2024-10-05T01:02:01.325Z"
   },
   {
    "duration": 9,
    "start_time": "2024-10-05T01:02:01.330Z"
   },
   {
    "duration": 8,
    "start_time": "2024-10-05T01:02:01.341Z"
   },
   {
    "duration": 2,
    "start_time": "2024-10-05T01:02:01.351Z"
   },
   {
    "duration": 52,
    "start_time": "2024-10-05T01:02:01.355Z"
   },
   {
    "duration": 10,
    "start_time": "2024-10-05T01:02:01.408Z"
   },
   {
    "duration": 6,
    "start_time": "2024-10-05T01:02:01.420Z"
   },
   {
    "duration": 3,
    "start_time": "2024-10-05T01:02:01.428Z"
   },
   {
    "duration": 3,
    "start_time": "2024-10-05T01:02:01.433Z"
   },
   {
    "duration": 3,
    "start_time": "2024-10-05T01:02:01.437Z"
   },
   {
    "duration": 133,
    "start_time": "2024-10-05T01:02:01.442Z"
   },
   {
    "duration": 0,
    "start_time": "2024-10-05T01:02:01.576Z"
   },
   {
    "duration": 0,
    "start_time": "2024-10-05T01:02:01.578Z"
   },
   {
    "duration": 0,
    "start_time": "2024-10-05T01:02:01.579Z"
   },
   {
    "duration": 0,
    "start_time": "2024-10-05T01:02:01.580Z"
   },
   {
    "duration": 0,
    "start_time": "2024-10-05T01:02:01.581Z"
   },
   {
    "duration": 0,
    "start_time": "2024-10-05T01:02:01.583Z"
   },
   {
    "duration": 0,
    "start_time": "2024-10-05T01:02:01.584Z"
   },
   {
    "duration": 0,
    "start_time": "2024-10-05T01:02:01.585Z"
   },
   {
    "duration": 0,
    "start_time": "2024-10-05T01:02:01.587Z"
   },
   {
    "duration": 0,
    "start_time": "2024-10-05T01:02:01.588Z"
   },
   {
    "duration": 0,
    "start_time": "2024-10-05T01:02:01.590Z"
   },
   {
    "duration": 3,
    "start_time": "2024-10-05T01:03:15.656Z"
   },
   {
    "duration": 8,
    "start_time": "2024-10-05T01:03:15.661Z"
   },
   {
    "duration": 3,
    "start_time": "2024-10-05T01:03:15.671Z"
   },
   {
    "duration": 8,
    "start_time": "2024-10-05T01:03:15.676Z"
   },
   {
    "duration": 8,
    "start_time": "2024-10-05T01:03:15.686Z"
   },
   {
    "duration": 2,
    "start_time": "2024-10-05T01:03:15.696Z"
   },
   {
    "duration": 7,
    "start_time": "2024-10-05T01:03:15.700Z"
   },
   {
    "duration": 3,
    "start_time": "2024-10-05T01:03:15.708Z"
   },
   {
    "duration": 15,
    "start_time": "2024-10-05T01:03:15.712Z"
   },
   {
    "duration": 7,
    "start_time": "2024-10-05T01:03:15.770Z"
   },
   {
    "duration": 2620,
    "start_time": "2024-10-05T01:03:15.779Z"
   },
   {
    "duration": 3,
    "start_time": "2024-10-05T01:03:18.400Z"
   },
   {
    "duration": 4,
    "start_time": "2024-10-05T01:03:18.405Z"
   },
   {
    "duration": 8,
    "start_time": "2024-10-05T01:03:18.410Z"
   },
   {
    "duration": 8,
    "start_time": "2024-10-05T01:03:18.419Z"
   },
   {
    "duration": 3,
    "start_time": "2024-10-05T01:03:18.428Z"
   },
   {
    "duration": 69,
    "start_time": "2024-10-05T01:03:18.433Z"
   },
   {
    "duration": 9,
    "start_time": "2024-10-05T01:03:18.504Z"
   },
   {
    "duration": 6,
    "start_time": "2024-10-05T01:03:18.514Z"
   },
   {
    "duration": 4,
    "start_time": "2024-10-05T01:03:18.523Z"
   },
   {
    "duration": 3,
    "start_time": "2024-10-05T01:03:18.528Z"
   },
   {
    "duration": 3,
    "start_time": "2024-10-05T01:03:18.533Z"
   },
   {
    "duration": 183,
    "start_time": "2024-10-05T01:03:18.538Z"
   },
   {
    "duration": 0,
    "start_time": "2024-10-05T01:03:18.723Z"
   },
   {
    "duration": 0,
    "start_time": "2024-10-05T01:03:18.724Z"
   },
   {
    "duration": 0,
    "start_time": "2024-10-05T01:03:18.725Z"
   },
   {
    "duration": 0,
    "start_time": "2024-10-05T01:03:18.726Z"
   },
   {
    "duration": 0,
    "start_time": "2024-10-05T01:03:18.727Z"
   },
   {
    "duration": 0,
    "start_time": "2024-10-05T01:03:18.728Z"
   },
   {
    "duration": 0,
    "start_time": "2024-10-05T01:03:18.729Z"
   },
   {
    "duration": 0,
    "start_time": "2024-10-05T01:03:18.730Z"
   },
   {
    "duration": 0,
    "start_time": "2024-10-05T01:03:18.731Z"
   },
   {
    "duration": 0,
    "start_time": "2024-10-05T01:03:18.733Z"
   },
   {
    "duration": 0,
    "start_time": "2024-10-05T01:03:18.734Z"
   },
   {
    "duration": 3,
    "start_time": "2024-10-05T01:04:05.200Z"
   },
   {
    "duration": 6,
    "start_time": "2024-10-05T01:04:05.206Z"
   },
   {
    "duration": 2,
    "start_time": "2024-10-05T01:04:05.215Z"
   },
   {
    "duration": 9,
    "start_time": "2024-10-05T01:04:05.219Z"
   },
   {
    "duration": 8,
    "start_time": "2024-10-05T01:04:05.230Z"
   },
   {
    "duration": 5,
    "start_time": "2024-10-05T01:04:05.239Z"
   },
   {
    "duration": 9,
    "start_time": "2024-10-05T01:04:05.245Z"
   },
   {
    "duration": 2,
    "start_time": "2024-10-05T01:04:05.256Z"
   },
   {
    "duration": 24,
    "start_time": "2024-10-05T01:04:05.260Z"
   },
   {
    "duration": 7,
    "start_time": "2024-10-05T01:04:05.287Z"
   },
   {
    "duration": 2692,
    "start_time": "2024-10-05T01:04:05.295Z"
   },
   {
    "duration": 3,
    "start_time": "2024-10-05T01:04:07.988Z"
   },
   {
    "duration": 4,
    "start_time": "2024-10-05T01:04:07.993Z"
   },
   {
    "duration": 8,
    "start_time": "2024-10-05T01:04:07.999Z"
   },
   {
    "duration": 7,
    "start_time": "2024-10-05T01:04:08.009Z"
   },
   {
    "duration": 3,
    "start_time": "2024-10-05T01:04:08.018Z"
   },
   {
    "duration": 70,
    "start_time": "2024-10-05T01:04:08.022Z"
   },
   {
    "duration": 12,
    "start_time": "2024-10-05T01:04:08.094Z"
   },
   {
    "duration": 7,
    "start_time": "2024-10-05T01:04:08.109Z"
   },
   {
    "duration": 5,
    "start_time": "2024-10-05T01:04:08.117Z"
   },
   {
    "duration": 3,
    "start_time": "2024-10-05T01:04:08.123Z"
   },
   {
    "duration": 3,
    "start_time": "2024-10-05T01:04:08.128Z"
   },
   {
    "duration": 537,
    "start_time": "2024-10-05T01:04:08.135Z"
   },
   {
    "duration": 132,
    "start_time": "2024-10-05T01:04:08.674Z"
   },
   {
    "duration": 4,
    "start_time": "2024-10-05T01:04:08.808Z"
   },
   {
    "duration": 4,
    "start_time": "2024-10-05T01:04:08.814Z"
   },
   {
    "duration": 7,
    "start_time": "2024-10-05T01:04:08.819Z"
   },
   {
    "duration": 3,
    "start_time": "2024-10-05T01:04:08.827Z"
   },
   {
    "duration": 2,
    "start_time": "2024-10-05T01:04:08.875Z"
   },
   {
    "duration": 3,
    "start_time": "2024-10-05T01:04:08.879Z"
   },
   {
    "duration": 88,
    "start_time": "2024-10-05T01:04:08.883Z"
   },
   {
    "duration": 16,
    "start_time": "2024-10-05T01:04:08.973Z"
   },
   {
    "duration": 12,
    "start_time": "2024-10-05T01:04:08.990Z"
   },
   {
    "duration": 74,
    "start_time": "2024-10-05T01:04:09.004Z"
   },
   {
    "duration": 157,
    "start_time": "2024-10-15T11:53:32.559Z"
   },
   {
    "duration": 971,
    "start_time": "2024-10-15T11:53:36.640Z"
   },
   {
    "duration": 18,
    "start_time": "2024-10-15T11:53:39.171Z"
   }
  ],
  "kernelspec": {
   "display_name": "entorno",
   "language": "python",
   "name": "python3"
  },
  "language_info": {
   "codemirror_mode": {
    "name": "ipython",
    "version": 3
   },
   "file_extension": ".py",
   "mimetype": "text/x-python",
   "name": "python",
   "nbconvert_exporter": "python",
   "pygments_lexer": "ipython3",
   "version": "3.12.4"
  },
  "toc": {
   "base_numbering": 1,
   "nav_menu": {},
   "number_sections": true,
   "sideBar": true,
   "skip_h1_title": true,
   "title_cell": "Table of Contents",
   "title_sidebar": "Contents",
   "toc_cell": false,
   "toc_position": {},
   "toc_section_display": true,
   "toc_window_display": false
  }
 },
 "nbformat": 4,
 "nbformat_minor": 4
}
